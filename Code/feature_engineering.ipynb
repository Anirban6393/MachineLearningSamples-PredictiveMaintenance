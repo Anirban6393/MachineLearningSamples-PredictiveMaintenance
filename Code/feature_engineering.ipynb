{
 "cells": [
  {
   "cell_type": "markdown",
   "metadata": {},
   "source": [
    "# Step 2: Feature Engineering\n",
    "\n",
    "Feature engineering combines the different data sources together to create a single data set of features (variables) that can be used to infer a machines's health condition over time. \n",
    "\n",
    "In this notebook, we will load the data stored in Azure Blob containers in the previous **Data Ingestion** notebook (`Code/data_ingestion.ipynb`). The note book uses several feature engineering methods to create a data set for use in our predictive maintenance machine learning solution."
   ]
  },
  {
   "cell_type": "code",
   "execution_count": 1,
   "metadata": {
    "collapsed": true
   },
   "outputs": [],
   "source": [
    "# import the libraries\n",
    "import os\n",
    "\n",
    "import pyspark.sql.functions as F\n",
    "from pyspark.sql.functions import col, unix_timestamp, round\n",
    "from pyspark.sql.functions import datediff\n",
    "from pyspark.sql.window import Window\n",
    "from pyspark.sql.types import DoubleType\n",
    "\n",
    "from pyspark.ml import Pipeline\n",
    "from pyspark.ml.feature import OneHotEncoder\n",
    "from pyspark.ml.feature import StringIndexer\n",
    "\n",
    "from pyspark.sql import SparkSession\n",
    "\n",
    "from azure.storage.blob import BlockBlobService\n",
    "from azure.storage.blob import PublicAccess\n",
    "\n",
    "spark = SparkSession.builder.getOrCreate()"
   ]
  },
  {
   "cell_type": "markdown",
   "metadata": {},
   "source": [
    "## Load data from Azure Blob storage container\n",
    "\n",
    "We have previously downloaded and stored the following data in an Azure blob storage container:\n",
    "\n",
    "  * Machines: Features differentiating each machine. For example age and model.\n",
    "  * Error: The log of non-critical errors. These errors may still indicate an impending component failure.\n",
    "  * Maint: Machine maintenance history detailing component replacement or regular maintenance activities withe the date of replacement.\n",
    "  * Telemetry: The operating conditions of a machine e.g. data collected from sensors.\n",
    "  * Failure history: The failure history of a machine or component within the machine.\n",
    "\n",
    "We'll load these files from blob, and create our analysis data set here. We'll write this data set back into a new blob container to use in our model building and evaluation notebook later. \n",
    "\n",
    "Since the Azure Blob storage account name and account key are not passed between notebooks, you'll need to provide those here again."
   ]
  },
  {
   "cell_type": "code",
   "execution_count": 2,
   "metadata": {
    "collapsed": true
   },
   "outputs": [],
   "source": [
    "# Enter your Azure blob storage details here \n",
    "ACCOUNT_NAME = \"<your blob storage account name>\"\n",
    "\n",
    "# You can find the account key under the _Access Keys_ link in the \n",
    "# [Azure Portal](portal.azure.com) page for your Azure storage container.\n",
    "ACCOUNT_KEY = \"<account key>\"\n",
    "\n",
    "#-------------------------------------------------------------------------------------------\n",
    "# The data from the Data Aquisition note book is stored in the dataingestion container.\n",
    "CONTAINER_NAME = \"dataingestion\"\n",
    "\n",
    "# The data constructed in this notebook will be stored in the featureengineering container\n",
    "STORAGE_CONTAINER_NAME = \"featureengineering\"\n",
    "\n",
    "# Connect to your blob service     \n",
    "my_service = BlockBlobService(account_name=ACCOUNT_NAME, account_key=ACCOUNT_KEY)\n",
    "\n",
    "# We will store each of these data sets in blob storage in an \n",
    "# Azure Storage Container on your Azure subscription.\n",
    "# See https://github.com/Azure/ViennaDocs/blob/master/Documentation/UsingBlobForStorage.md\n",
    "# for details.\n",
    "\n",
    "# These file names detail which blob each file is stored under. \n",
    "MACH_DATA = 'machines_files.parquet'\n",
    "MAINT_DATA = 'maint_files.parquet'\n",
    "ERROR_DATA = 'errors_files.parquet'\n",
    "TELEMETRY_DATA = 'telemetry_files.parquet'\n",
    "FAILURE_DATA = 'failure_files.parquet'\n",
    "\n",
    "# These file names detail the local paths where we store the data results.\n",
    "MACH_LOCAL_DIRECT = 'dataingestion_mach_result.parquet'\n",
    "ERROR_LOCAL_DIRECT = 'dataingestion_err_result.parquet'\n",
    "MAINT_LOCAL_DIRECT = 'dataingestion_maint_result.parquet'\n",
    "TELEMETRY_LOCAL_DIRECT = 'dataingestion_tel_result.parquet'\n",
    "FAILURES_LOCAL_DIRECT = 'dataingestion_fail_result.parquet'\n",
    "\n",
    "# This is the final data file.\n",
    "FEATURES_LOCAL_DIRECT = 'featureengineering_files.parquet'\n",
    "\n",
    "# define your blob service     \n",
    "my_service = BlockBlobService(account_name=ACCOUNT_NAME, account_key=ACCOUNT_KEY)"
   ]
  },
  {
   "cell_type": "markdown",
   "metadata": {},
   "source": [
    "### Machines data set\n",
    "\n",
    "Load the machines data set from your Azure blob."
   ]
  },
  {
   "cell_type": "code",
   "execution_count": 3,
   "metadata": {},
   "outputs": [
    {
     "name": "stdout",
     "output_type": "stream",
     "text": [
      "DONE creating a local directory!\n",
      "1000\n",
      "+---------+------+---+\n",
      "|machineID| model|age|\n",
      "+---------+------+---+\n",
      "|        1|model2| 18|\n",
      "|        2|model4|  7|\n",
      "|        3|model3|  8|\n",
      "|        4|model3|  7|\n",
      "|        5|model2|  2|\n",
      "+---------+------+---+\n",
      "only showing top 5 rows\n",
      "\n"
     ]
    }
   ],
   "source": [
    "# download the entire parquet result folder to local path for a new run \n",
    "\n",
    "# create a local path  to store the data.\n",
    "if not os.path.exists(MACH_LOCAL_DIRECT):\n",
    "    os.makedirs(MACH_LOCAL_DIRECT)\n",
    "    print('DONE creating a local directory!')\n",
    "\n",
    "# Connect to blob storage container\n",
    "for blob in my_service.list_blobs(CONTAINER_NAME):\n",
    "    if MACH_DATA in blob.name:\n",
    "        local_file = os.path.join(MACH_LOCAL_DIRECT, os.path.basename(blob.name))\n",
    "        my_service.get_blob_to_path(CONTAINER_NAME, blob.name, local_file)\n",
    "\n",
    "# Read in the data\n",
    "machines = spark.read.parquet(MACH_LOCAL_DIRECT)\n",
    "\n",
    "print(machines.count())\n",
    "machines.show(5)"
   ]
  },
  {
   "cell_type": "markdown",
   "metadata": {},
   "source": [
    "### Errors data set\n",
    "\n",
    "Load the errors data set from your Azure blob."
   ]
  },
  {
   "cell_type": "code",
   "execution_count": 4,
   "metadata": {},
   "outputs": [
    {
     "name": "stdout",
     "output_type": "stream",
     "text": [
      "DONE creating a local directory!\n",
      "11967\n",
      "+-------------------+---------+-------+\n",
      "|           datetime|machineID|errorID|\n",
      "+-------------------+---------+-------+\n",
      "|2015-04-08 19:00:00|      251| error3|\n",
      "|2015-06-09 06:00:00|      251| error1|\n",
      "|2015-08-08 06:00:00|      251| error4|\n",
      "|2015-09-07 06:00:00|      251| error2|\n",
      "|2015-09-07 06:00:00|      251| error3|\n",
      "+-------------------+---------+-------+\n",
      "only showing top 5 rows\n",
      "\n"
     ]
    }
   ],
   "source": [
    "# load the previous created final dataset into the workspace\n",
    "\n",
    "# create a local path  to store the data.\n",
    "if not os.path.exists(ERROR_LOCAL_DIRECT):\n",
    "    os.makedirs(ERROR_LOCAL_DIRECT)\n",
    "    print('DONE creating a local directory!')\n",
    "\n",
    "# Connect to blob storage container\n",
    "for blob in my_service.list_blobs(CONTAINER_NAME):\n",
    "    if ERROR_DATA in blob.name:\n",
    "        local_file = os.path.join(ERROR_LOCAL_DIRECT, os.path.basename(blob.name))\n",
    "        my_service.get_blob_to_path(CONTAINER_NAME, blob.name, local_file)\n",
    "\n",
    "# Read in the data\n",
    "errors = spark.read.parquet(ERROR_LOCAL_DIRECT)\n",
    "\n",
    "print(errors.count())\n",
    "errors.show(5)"
   ]
  },
  {
   "cell_type": "markdown",
   "metadata": {},
   "source": [
    "### Maintenance data set\n",
    "\n",
    "Load the maintenance data set from your Azure blob."
   ]
  },
  {
   "cell_type": "code",
   "execution_count": 5,
   "metadata": {},
   "outputs": [
    {
     "name": "stdout",
     "output_type": "stream",
     "text": [
      "DONE creating a local directory!\n",
      "32592\n",
      "+-------------------+---------+-----+\n",
      "|           datetime|machineID| comp|\n",
      "+-------------------+---------+-----+\n",
      "|2015-01-04 06:00:00|      252|comp1|\n",
      "|2015-01-19 06:00:00|      252|comp4|\n",
      "|2015-02-18 06:00:00|      252|comp3|\n",
      "|2015-03-05 06:00:00|      252|comp2|\n",
      "|2015-03-20 06:00:00|      252|comp1|\n",
      "+-------------------+---------+-----+\n",
      "only showing top 5 rows\n",
      "\n"
     ]
    }
   ],
   "source": [
    "# load the previous created final dataset into the workspace\n",
    "\n",
    "# create a local path  to store the data.\n",
    "if not os.path.exists(MAINT_LOCAL_DIRECT):\n",
    "    os.makedirs(MAINT_LOCAL_DIRECT)\n",
    "    print('DONE creating a local directory!')\n",
    "\n",
    "# Connect to blob storage container\n",
    "for blob in my_service.list_blobs(CONTAINER_NAME):\n",
    "    if MAINT_DATA in blob.name:\n",
    "        local_file = os.path.join(MAINT_LOCAL_DIRECT, os.path.basename(blob.name))\n",
    "        my_service.get_blob_to_path(CONTAINER_NAME, blob.name, local_file)\n",
    "\n",
    "# Read in the data\n",
    "maint = spark.read.parquet(MAINT_LOCAL_DIRECT)\n",
    "\n",
    "print(maint.count())\n",
    "maint.show(5)"
   ]
  },
  {
   "cell_type": "markdown",
   "metadata": {},
   "source": [
    "### Telemetry\n",
    "\n",
    "Load the telemetry data set from your Azure blob."
   ]
  },
  {
   "cell_type": "code",
   "execution_count": 6,
   "metadata": {},
   "outputs": [
    {
     "name": "stdout",
     "output_type": "stream",
     "text": [
      "DONE creating a local directory!\n",
      "8761000\n",
      "+-------------------+---------+------------------+------------------+------------------+------------------+\n",
      "|           datetime|machineID|              volt|            rotate|          pressure|         vibration|\n",
      "+-------------------+---------+------------------+------------------+------------------+------------------+\n",
      "|2015-01-08 10:00:00|      501|  165.775141945845|456.01448415760694| 96.77970729292059|  40.2003147414585|\n",
      "|2015-01-08 11:00:00|      501|   167.69449418333|  415.396525444102|  106.346837851055|  39.4543199241959|\n",
      "|2015-01-08 12:00:00|      501|  149.286910613195|  549.794168134521|  110.590462370234|46.649346416714295|\n",
      "|2015-01-08 13:00:00|      501|  164.315444277899|  485.343432044691|102.64442608969802|   38.615502466494|\n",
      "|2015-01-08 14:00:00|      501|178.78989140143298|447.83020430003097|100.23827927490801|36.380290860492394|\n",
      "+-------------------+---------+------------------+------------------+------------------+------------------+\n",
      "only showing top 5 rows\n",
      "\n"
     ]
    }
   ],
   "source": [
    "# load the previous created final dataset into the workspace\n",
    "\n",
    "# create a local path  to store the data.\n",
    "if not os.path.exists(TELEMETRY_LOCAL_DIRECT):\n",
    "    os.makedirs(TELEMETRY_LOCAL_DIRECT)\n",
    "    print('DONE creating a local directory!')\n",
    "\n",
    "# Connect to blob storage container\n",
    "for blob in my_service.list_blobs(CONTAINER_NAME):\n",
    "    if TELEMETRY_DATA in blob.name:\n",
    "        local_file = os.path.join(TELEMETRY_LOCAL_DIRECT, os.path.basename(blob.name))\n",
    "        my_service.get_blob_to_path(CONTAINER_NAME, blob.name, local_file)\n",
    "\n",
    "# Read in the data\n",
    "telemetry = spark.read.parquet(TELEMETRY_LOCAL_DIRECT)\n",
    "\n",
    "print(telemetry.count())\n",
    "telemetry.show(5)"
   ]
  },
  {
   "cell_type": "markdown",
   "metadata": {},
   "source": [
    "### Failures data set\n",
    "\n",
    "Load the failures data set from your Azure blob."
   ]
  },
  {
   "cell_type": "code",
   "execution_count": 7,
   "metadata": {},
   "outputs": [
    {
     "name": "stdout",
     "output_type": "stream",
     "text": [
      "DONE creating a local directory!\n",
      "6726\n",
      "+-------------------+---------+-------+\n",
      "|           datetime|machineID|failure|\n",
      "+-------------------+---------+-------+\n",
      "|2015-09-18 06:00:00|      453|  comp2|\n",
      "|2015-12-17 06:00:00|      453|  comp2|\n",
      "|2015-03-27 06:00:00|      454|  comp2|\n",
      "|2015-08-24 06:00:00|      454|  comp2|\n",
      "|2015-09-23 06:00:00|      454|  comp1|\n",
      "+-------------------+---------+-------+\n",
      "only showing top 5 rows\n",
      "\n"
     ]
    }
   ],
   "source": [
    "# load the previous created final dataset into the workspace\n",
    "\n",
    "# create a local path  to store the data.\n",
    "\n",
    "if not os.path.exists(FAILURES_LOCAL_DIRECT):\n",
    "    os.makedirs(FAILURES_LOCAL_DIRECT)\n",
    "    print('DONE creating a local directory!')\n",
    "\n",
    "\n",
    "# download the entire parquet result folder to local path for a new run \n",
    "for blob in my_service.list_blobs(CONTAINER_NAME):\n",
    "    if FAILURE_DATA in blob.name:\n",
    "        local_file = os.path.join(FAILURES_LOCAL_DIRECT, os.path.basename(blob.name))\n",
    "        my_service.get_blob_to_path(CONTAINER_NAME, blob.name, local_file)\n",
    "\n",
    "failures = spark.read.parquet(FAILURES_LOCAL_DIRECT)\n",
    "\n",
    "print(failures.count())\n",
    "failures.show(5)"
   ]
  },
  {
   "cell_type": "markdown",
   "metadata": {},
   "source": [
    "## Feature engineering \n",
    "\n",
    "Feature engineering combines the different data sources together to create a single data set of features (variables) that can be used to infer a machines's health condition over time. The ultimate goal is to generate a single record for each time unit for each asset combining its features and labels to be fed into the machine learning algorithm. In order to prepare that clean final data set, some pre-processing steps should be taken. First step is to divide the duration of data collection into time units where each record belongs to a time unit for an asset.\n",
    "\n",
    "The measurement unit for time can be in seconds, minutes, hours, days, months, cycles, miles or transactions depending on the efficiency of data preparation and the changes observed in the conditions of the asset from a time unit to the other or other factors specific to the domain. In other words, the time unit does not have to be the same as the frequency of data collection as in many cases data may not show any difference from one unit to the other. For example, if temperature values were being collected every 10 seconds, picking a time unit of 10 seconds for the whole analysis inflates the number of examples without providing any additional information. Better strategy would be to use average over an hour as an example.\n",
    "\n",
    "### Rolling aggregates\n",
    "\n",
    "For each record of an asset, we pick a rolling window of size \"W\" which is the number of units of time that we would like to compute historical aggregates for. We then compute rolling aggregate features using the W periods before the date of that record. Some example rolling aggregates can be rolling counts, means, standard deviations, outliers based on standard deviations, CUSUM measures, minimum and maximum values for the window. Another interesting technique is to capture trend changes, spikes and level changes using algorithms that detect anomalies in data using anomaly detection algorithms.\n",
    "\n",
    "### Lag features\n",
    "As mentioned earlier, in predictive maintenance, historical data usually comes with timestamps indicating the time of collection for each piece of data. There are many ways of creating features from the data that comes with timestamped data. In this section, we discuss some of these methods used for predictive maintenance. However, we are not limited by these methods alone. Since feature engineering is considered to be one of the most creative areas of predictive modeling, there could be many other ways to create features. Here, we provide some general techniques."
   ]
  },
  {
   "cell_type": "markdown",
   "metadata": {},
   "source": [
    "## Telemetry features\n",
    "\n",
    "Because the telemetry data set is the largest time series data we have, we start feature engineering here. \n",
    "\n",
    "A common method is to pick a window size for the lag features to be created and compute rolling aggregate measures such as mean, standard deviation, minimum, maximum, etc. to represent the short term history of the telemetry over the window. In the following, rolling mean and standard deviation of the telemetry data over the last 3 hour and 24 hour lag windows is calculated for every 3 hours.\n",
    "\n"
   ]
  },
  {
   "cell_type": "code",
   "execution_count": 8,
   "metadata": {},
   "outputs": [
    {
     "name": "stdout",
     "output_type": "stream",
     "text": [
      "Lag = 3, Column = volt\n",
      "Lag = 3, Column = rotate\n",
      "Lag = 3, Column = pressure\n",
      "Lag = 3, Column = vibration\n",
      "Lag = 24, Column = volt\n",
      "Lag = 24, Column = rotate\n",
      "Lag = 24, Column = pressure\n",
      "Lag = 24, Column = vibration\n"
     ]
    }
   ],
   "source": [
    "# rolling mean\n",
    "# Temporary storage for rolling means\n",
    "tel_mean = telemetry\n",
    "\n",
    "# Which features are we interested in telemetry data set\n",
    "rolling_features = ['volt','rotate', 'pressure', 'vibration']\n",
    "               \n",
    "# We choose two windows for our rolling windows 3hrs, 24 hrs\n",
    "lags = [3,24]\n",
    "\n",
    "for lag_n in lags:\n",
    "    wSpec = Window.partitionBy('machineID').orderBy('datetime').rowsBetween(1-lag_n, 0)\n",
    "    for col_name in rolling_features:\n",
    "        tel_mean = tel_mean.withColumn(col_name+'_rollingmean_'+str(lag_n), F.avg(col(col_name)).over(wSpec))\n",
    "        print(\"Lag = %d, Column = %s\" % (lag_n, col_name))"
   ]
  },
  {
   "cell_type": "markdown",
   "metadata": {},
   "source": [
    "We repeat this rolling window process for the standard deviation. "
   ]
  },
  {
   "cell_type": "code",
   "execution_count": 9,
   "metadata": {},
   "outputs": [
    {
     "name": "stdout",
     "output_type": "stream",
     "text": [
      "Lag = 3, Column = volt\n",
      "Lag = 3, Column = rotate\n",
      "Lag = 3, Column = pressure\n",
      "Lag = 3, Column = vibration\n",
      "Lag = 24, Column = volt\n",
      "Lag = 24, Column = rotate\n",
      "Lag = 24, Column = pressure\n",
      "Lag = 24, Column = vibration\n"
     ]
    }
   ],
   "source": [
    "# rolling standard deviation\n",
    "# Temporary storage for rolling means\n",
    "tel_sd = telemetry\n",
    "\n",
    "for lag_n in lags:\n",
    "    wSpec = Window.partitionBy('machineID').orderBy('datetime').rowsBetween(1-lag_n, 0)\n",
    "    for col_name in rolling_features:\n",
    "        tel_sd = tel_sd.withColumn(col_name+'_rollingstd_'+str(lag_n), F.stddev(col(col_name)).over(wSpec))\n",
    "        print(\"Lag = %d, Column = %s\" % (lag_n, col_name))"
   ]
  },
  {
   "cell_type": "markdown",
   "metadata": {},
   "source": [
    "### Resample every 3 hours"
   ]
  },
  {
   "cell_type": "code",
   "execution_count": 10,
   "metadata": {},
   "outputs": [
    {
     "name": "stdout",
     "output_type": "stream",
     "text": [
      "+---------+--------------------+------------------+--------------------+----------------------+-----------------------+-------------------+---------------------+-----------------------+------------------------+\n",
      "|machineID|        dt_truncated|volt_rollingmean_3|rotate_rollingmean_3|pressure_rollingmean_3|vibration_rollingmean_3|volt_rollingmean_24|rotate_rollingmean_24|pressure_rollingmean_24|vibration_rollingmean_24|\n",
      "+---------+--------------------+------------------+--------------------+----------------------+-----------------------+-------------------+---------------------+-----------------------+------------------------+\n",
      "|        1|2015-01-01 06:00:...|  157.570499303353|   531.9910662461275|     104.6551338198705|      47.58198648621824|   157.570499303353|    531.9910662461275|      104.6551338198705|       47.58198648621824|\n",
      "|        1|2015-01-01 09:00:...| 164.5897626847691|  483.18260805306585|    108.42022548903766|     41.788693381230225| 162.56407261408597|   497.81409058346577|     107.70759315574973|      43.226805532968115|\n",
      "|        1|2015-01-01 12:00:...|166.62829412128102|   469.5738785281323|     96.63276976305063|      40.86484505715328|  164.5763498606411|     484.613651237679|     103.04446537517121|      42.151638488191416|\n",
      "|        1|2015-01-01 15:00:...|  171.067798181518|   488.4581387657104|       99.726351228793|      43.38640212756743| 166.52268391941996|   485.51093874805173|     102.02220291528766|      42.503124493788015|\n",
      "|        1|2015-01-01 18:00:...| 178.1060417043392|  433.81353435738373|     96.08070959588888|     42.261642612158205| 169.32568592452287|    473.6208415758231|     100.66056456580509|       42.43234484565859|\n",
      "+---------+--------------------+------------------+--------------------+----------------------+-----------------------+-------------------+---------------------+-----------------------+------------------------+\n",
      "only showing top 5 rows\n",
      "\n"
     ]
    }
   ],
   "source": [
    "# tel_mean rolling mean\n",
    "# 3 hours = 10800 seconds  \n",
    "time_val = 3 * 60 * 60\n",
    "\n",
    "# I think this is grabbing datetime from the tel_sd data set, which is equivalent to telemetry\n",
    "dt_truncated = ((round(unix_timestamp(col(\"datetime\")) / time_val) * time_val).cast(\"timestamp\"))\n",
    "\n",
    "tel_mean_resampled = tel_mean.withColumn(\"dt_truncated\", dt_truncated).drop('volt', 'rotate', 'pressure', 'vibration')\n",
    "\n",
    "tel_mean_resampled1 = (tel_mean_resampled.groupBy(\"machineID\",\"dt_truncated\")\n",
    "                               .agg(F.mean('volt_rollingmean_3').alias('volt_rollingmean_3'),\n",
    "                                    F.mean('rotate_rollingmean_3').alias('rotate_rollingmean_3'), \n",
    "                                    F.mean('pressure_rollingmean_3').alias('pressure_rollingmean_3'), \n",
    "                                    F.mean('vibration_rollingmean_3').alias('vibration_rollingmean_3'), \n",
    "                                    F.mean('volt_rollingmean_24').alias('volt_rollingmean_24'),\n",
    "                                    F.mean('rotate_rollingmean_24').alias('rotate_rollingmean_24'), \n",
    "                                    F.mean('pressure_rollingmean_24').alias('pressure_rollingmean_24'), \n",
    "                                    F.mean('vibration_rollingmean_24').alias('vibration_rollingmean_24')))\n",
    "\n",
    "tel_mean_resampled1.count()\n",
    "tel_mean_resampled1.where((col(\"machineID\") == 1)).show(5)"
   ]
  },
  {
   "cell_type": "code",
   "execution_count": 11,
   "metadata": {},
   "outputs": [
    {
     "name": "stdout",
     "output_type": "stream",
     "text": [
      "+---------+--------------------+------------------+-------------------+---------------------+----------------------+-------------------+--------------------+----------------------+-----------------------+\n",
      "|machineID|        dt_truncated| volt_rollingstd_3|rotate_rollingstd_3|pressure_rollingstd_3|vibration_rollingstd_3| volt_rollingstd_24|rotate_rollingstd_24|pressure_rollingstd_24|vibration_rollingstd_24|\n",
      "+---------+--------------------+------------------+-------------------+---------------------+----------------------+-------------------+--------------------+----------------------+-----------------------+\n",
      "|       29|2015-01-26 03:00:...|1.0354484238049477| 14.260962360469602|   0.5964698254143006|    1.5456387610819684|0.07351154796794042|  1.4018520364853078|   0.14692943132851138|     0.1075178454921169|\n",
      "|       29|2015-01-29 21:00:...| 3.820994609258985|  3.097816538368608|    6.328610359092415|    1.9043920683183384|0.17961103508232468|   5.045343957838469|   0.09655794386488613|    0.07279048954838621|\n",
      "|      474|2015-01-05 03:00:...| 9.429168665073544| 16.816881635107595|   0.6946909435928545|    0.9845612172713769| 0.9863451790768504|  0.6150254160244282|  0.015057077678298057|    0.08909999882767874|\n",
      "|      474|2015-01-17 09:00:...| 1.757468762020261| 5.4479040407045884|    4.147329576899274|    1.6273429830155024|0.25074834492287124|  0.5581721338306437|   0.17394798585679433|    0.29576537932426317|\n",
      "|       26|2015-03-01 21:00:...|1.1317949689743299| 17.717914036375706|   1.9961512480795465|    0.8358086590139839|0.29160641860266917|  2.6693437721603614|   0.17101488294034778|    0.14588478032247834|\n",
      "+---------+--------------------+------------------+-------------------+---------------------+----------------------+-------------------+--------------------+----------------------+-----------------------+\n",
      "only showing top 5 rows\n",
      "\n"
     ]
    }
   ],
   "source": [
    "# tel_sd rolling sd\n",
    "tel_sd_resampled = (tel_sd.withColumn(\"dt_truncated\", dt_truncated).drop('volt', 'rotate', 'pressure', 'vibration')\n",
    "                        .fillna(0))\n",
    "\n",
    "tel_sd_resampled1 = (tel_sd_resampled.groupBy(\"machineID\",\"dt_truncated\")\n",
    "                               .agg(F.stddev('volt_rollingstd_3').alias('volt_rollingstd_3'),\n",
    "                                    F.stddev('rotate_rollingstd_3').alias('rotate_rollingstd_3'), \n",
    "                                    F.stddev('pressure_rollingstd_3').alias('pressure_rollingstd_3'), \n",
    "                                    F.stddev('vibration_rollingstd_3').alias('vibration_rollingstd_3'), \n",
    "                                    F.stddev('volt_rollingstd_24').alias('volt_rollingstd_24'),\n",
    "                                    F.stddev('rotate_rollingstd_24').alias('rotate_rollingstd_24'), \n",
    "                                    F.stddev('pressure_rollingstd_24').alias('pressure_rollingstd_24'), \n",
    "                                    F.stddev('vibration_rollingstd_24').alias('vibration_rollingstd_24')))\n",
    "tel_sd_resampled1.count()\n",
    "tel_sd_resampled1.show(5)\n"
   ]
  },
  {
   "cell_type": "markdown",
   "metadata": {},
   "source": [
    "## Errors features\n",
    "\n",
    "Like telemetry data, errors come with timestamps. An important difference is that the error IDs are categorical values and should not be averaged over time intervals like the telemetry measurements. Instead, we count the number of errors of each type in a lagging window. We begin by reformatting the error data to have one entry per machine per time at which at least one error occurred."
   ]
  },
  {
   "cell_type": "code",
   "execution_count": 12,
   "metadata": {},
   "outputs": [
    {
     "name": "stdout",
     "output_type": "stream",
     "text": [
      "+---------+-------------------+---------+---------+---------+---------+---------+\n",
      "|machineID|           datetime|error1sum|error2sum|error3sum|error4sum|error5sum|\n",
      "+---------+-------------------+---------+---------+---------+---------+---------+\n",
      "|       65|2015-08-16 06:00:00|        0|        1|        1|        0|        0|\n",
      "|      843|2015-06-14 06:00:00|        0|        1|        1|        0|        0|\n",
      "|      170|2015-07-03 06:00:00|        0|        1|        1|        0|        0|\n",
      "|      557|2015-11-29 06:00:00|        0|        1|        1|        0|        0|\n",
      "|      544|2015-10-08 06:00:00|        1|        1|        1|        0|        0|\n",
      "+---------+-------------------+---------+---------+---------+---------+---------+\n",
      "only showing top 5 rows\n",
      "\n"
     ]
    }
   ],
   "source": [
    "# create a column for each errorID \n",
    "error1 = errors.groupBy(\"machineID\",\"datetime\",\"errorID\").pivot('errorID').agg(F.count('machineID').alias('dummy'))\n",
    "\n",
    "# remove the column called errorID and fill in missing values\n",
    "error2 = error1.drop('errorID').fillna(0)\n",
    "\n",
    "# combine errors for a given machine in a given hour\n",
    "error3 = (error2.groupBy(\"machineID\",\"datetime\")\n",
    "                .agg(F.sum('error1').alias('error1sum'), \n",
    "                     F.sum('error2').alias('error2sum'), \n",
    "                     F.sum('error3').alias('error3sum'), \n",
    "                     F.sum('error4').alias('error4sum'), \n",
    "                     F.sum('error5').alias('error5sum')))\n",
    "\n",
    "error3.count(), len(error3.columns)\n",
    "error3.show(5)"
   ]
  },
  {
   "cell_type": "markdown",
   "metadata": {},
   "source": [
    "We want the same number of rows in error as in telemetry.\n",
    "\n"
   ]
  },
  {
   "cell_type": "code",
   "execution_count": 13,
   "metadata": {},
   "outputs": [
    {
     "name": "stdout",
     "output_type": "stream",
     "text": [
      "+-------------------+---------+---------+---------+---------+---------+---------+\n",
      "|           datetime|machineID|error1sum|error2sum|error3sum|error4sum|error5sum|\n",
      "+-------------------+---------+---------+---------+---------+---------+---------+\n",
      "|2015-01-08 10:00:00|      501|        0|        0|        0|        0|        0|\n",
      "|2015-01-08 11:00:00|      501|        0|        0|        0|        0|        0|\n",
      "|2015-01-08 12:00:00|      501|        0|        0|        0|        0|        0|\n",
      "|2015-01-08 13:00:00|      501|        0|        0|        0|        0|        0|\n",
      "|2015-01-08 14:00:00|      501|        0|        0|        0|        0|        0|\n",
      "+-------------------+---------+---------+---------+---------+---------+---------+\n",
      "only showing top 5 rows\n",
      "\n"
     ]
    }
   ],
   "source": [
    "# join the telemetry data with errors\n",
    "error_count = (telemetry.join(error3, ((telemetry['machineID'] == error3['machineID']) \n",
    "                                  & (telemetry['datetime'] == error3['datetime'])), \"left\")\n",
    "               .drop('volt', 'rotate', 'pressure', 'vibration').drop(error3.machineID).drop(error3.datetime))\n",
    "\n",
    "# fill in missing value\n",
    "error_count1 = error_count.fillna(0)\n",
    "\n",
    "error_count1.count(), len(error_count1.columns)\n",
    "error_count1.show(5)\n"
   ]
  },
  {
   "cell_type": "code",
   "execution_count": 14,
   "metadata": {},
   "outputs": [
    {
     "name": "stdout",
     "output_type": "stream",
     "text": [
      "Lag = 24, Column = error1sum\n",
      "Lag = 24, Column = error2sum\n",
      "Lag = 24, Column = error3sum\n",
      "Lag = 24, Column = error4sum\n",
      "Lag = 24, Column = error5sum\n"
     ]
    }
   ],
   "source": [
    "rolling_features1 = ['error1sum','error2sum', 'error3sum', 'error4sum', 'error5sum']\n",
    "               \n",
    "# lag window 24 hrs\n",
    "lags = [24]\n",
    "\n",
    "# rolling mean\n",
    "err_mean = error_count1\n",
    "\n",
    "for lag_n in lags:\n",
    "    wSpec = Window.partitionBy('machineID').orderBy('datetime').rowsBetween(1-lag_n, 0)\n",
    "    for col_name in rolling_features1:\n",
    "        err_mean = err_mean.withColumn(col_name+'_rollingmean_'+str(lag_n), F.avg(col(col_name)).over(wSpec))\n",
    "        print(\"Lag = %d, Column = %s\" % (lag_n, col_name))"
   ]
  },
  {
   "cell_type": "markdown",
   "metadata": {},
   "source": [
    "### Resample to every 3 hours"
   ]
  },
  {
   "cell_type": "code",
   "execution_count": 15,
   "metadata": {},
   "outputs": [
    {
     "name": "stdout",
     "output_type": "stream",
     "text": [
      "+---------+--------------------+------------------------+------------------------+------------------------+------------------------+------------------------+\n",
      "|machineID|        dt_truncated|error1sum_rollingmean_24|error2sum_rollingmean_24|error3sum_rollingmean_24|error4sum_rollingmean_24|error5sum_rollingmean_24|\n",
      "+---------+--------------------+------------------------+------------------------+------------------------+------------------------+------------------------+\n",
      "|       29|2015-01-26 03:00:...|                     0.0|                     0.0|                     0.0|                     0.0|                     0.0|\n",
      "|       29|2015-01-29 21:00:...|                     0.0|                     0.0|                     0.0|                     0.0|                     0.0|\n",
      "|      474|2015-01-05 03:00:...|                     0.0|                     0.0|                     0.0|                     0.0|                     0.0|\n",
      "|      474|2015-01-17 09:00:...|                     0.0|                     0.0|                     0.0|                     0.0|                     0.0|\n",
      "|       26|2015-03-01 21:00:...|                     0.0|                     0.0|                     0.0|                     0.0|                     0.0|\n",
      "+---------+--------------------+------------------------+------------------------+------------------------+------------------------+------------------------+\n",
      "only showing top 5 rows\n",
      "\n"
     ]
    }
   ],
   "source": [
    "dt_truncated = ((round(unix_timestamp(col(\"datetime\").cast(\"timestamp\")) / time_val) * time_val)\n",
    "    .cast(\"timestamp\"))\n",
    "\n",
    "err_mean_resampled = (err_mean.withColumn(\"dt_truncated\", dt_truncated)\n",
    "                    .drop('error1sum', 'error2sum', 'error3sum', 'error4sum', 'error5sum').fillna(0))\n",
    "\n",
    "err_mean_resampled1 = (err_mean_resampled.groupBy(\"machineID\",\"dt_truncated\")\n",
    "                               .agg(F.mean('error1sum_rollingmean_24').alias('error1sum_rollingmean_24'), \n",
    "                                    F.mean('error2sum_rollingmean_24').alias('error2sum_rollingmean_24'), \n",
    "                                    F.mean('error3sum_rollingmean_24').alias('error3sum_rollingmean_24'), \n",
    "                                    F.mean('error4sum_rollingmean_24').alias('error4sum_rollingmean_24'), \n",
    "                                    F.mean('error5sum_rollingmean_24').alias('error5sum_rollingmean_24')))\n",
    "err_mean_resampled1.count()\n",
    "err_mean_resampled1.show(5)\n"
   ]
  },
  {
   "cell_type": "markdown",
   "metadata": {},
   "source": [
    "## Days since last replacement from maintenance \n",
    "\n",
    "A crucial data set in this example is the maintenance records which contain the information of component replacement records. Possible features from this data set can be, for example, the number of replacements of each component in the last 3 months to incorporate the frequency of replacements. However, more relevent information would be to calculate how long it has been since a component is last replaced as that would be expected to correlate better with component failures since the longer a component is used, the more degradation should be expected.\n",
    "\n",
    "As a side note, creating lagging features from maintenance data is not as straightforward as for telemetry and errors, so the features from this data are generated in a more custom way. This type of ad-hoc feature engineering is very common in predictive maintenance since domain knowledge plays a big role in understanding the predictors of a problem. In the following, the days since last component replacement are calculated for each component type as features from the maintenance data."
   ]
  },
  {
   "cell_type": "code",
   "execution_count": 16,
   "metadata": {},
   "outputs": [
    {
     "name": "stdout",
     "output_type": "stream",
     "text": [
      "+---------+-------------------+--------+--------+--------+--------+\n",
      "|machineID|           datetime|comp1sum|comp2sum|comp3sum|comp4sum|\n",
      "+---------+-------------------+--------+--------+--------+--------+\n",
      "|      191|2015-12-28 06:00:00|       1|       0|       0|       0|\n",
      "|      567|2015-09-17 06:00:00|       0|       0|       0|       1|\n",
      "|      301|2015-04-04 06:00:00|       1|       1|       0|       0|\n",
      "|      852|2015-06-14 06:00:00|       0|       0|       1|       0|\n",
      "|      942|2015-09-23 06:00:00|       0|       0|       1|       1|\n",
      "+---------+-------------------+--------+--------+--------+--------+\n",
      "only showing top 5 rows\n",
      "\n"
     ]
    }
   ],
   "source": [
    "# create a column for each comp \n",
    "maint1 = maint.groupBy(\"machineID\",\"datetime\",\"comp\").pivot('comp').agg(F.count('machineID').alias('dummy'))\n",
    "\n",
    "# remove the column called comp and fill in missing values\n",
    "maint2 = maint1.drop('comp').fillna(0)\n",
    "\n",
    "# combine maintenance for a given machine in a given hour\n",
    "maint3 = (maint2.groupBy(\"machineID\",\"datetime\").agg(F.sum('comp1').alias('comp1sum'), \n",
    "                                                    F.sum('comp2').alias('comp2sum'), \n",
    "                                                    F.sum('comp3').alias('comp3sum'),\n",
    "                                                    F.sum('comp4').alias('comp4sum')))\n",
    "maint3.show(5)"
   ]
  },
  {
   "cell_type": "markdown",
   "metadata": {},
   "source": [
    "## Days since last replacement for component-1"
   ]
  },
  {
   "cell_type": "code",
   "execution_count": 17,
   "metadata": {},
   "outputs": [
    {
     "name": "stdout",
     "output_type": "stream",
     "text": [
      "+-------------------+---------+--------------+\n",
      "|       datetime_tel|machineID|sincelastcomp1|\n",
      "+-------------------+---------+--------------+\n",
      "|2015-01-08 10:00:00|      501|             6|\n",
      "|2015-01-08 10:00:00|      501|            56|\n",
      "|2015-01-08 11:00:00|      501|             6|\n",
      "|2015-01-08 11:00:00|      501|            56|\n",
      "|2015-01-08 12:00:00|      501|             6|\n",
      "+-------------------+---------+--------------+\n",
      "only showing top 5 rows\n",
      "\n"
     ]
    }
   ],
   "source": [
    "test_maint_comp1 = (maint3.where((col(\"comp1sum\") == '1')).withColumnRenamed('datetime','datetime_maint')\n",
    "                           .drop('comp2sum', 'comp3sum', 'comp4sum'))\n",
    "\n",
    "test_tel_comp1 = (telemetry.withColumnRenamed('datetime','datetime_tel')\n",
    "                  .drop(telemetry.volt).drop(telemetry.rotate).drop(telemetry.pressure).drop(telemetry.vibration))\n",
    "\n",
    "test_maint_tel_comp1 = test_tel_comp1.join(test_maint_comp1, ((test_tel_comp1['machineID']==\n",
    "                                                               test_maint_comp1['machineID']) \n",
    "                                            & (test_tel_comp1['datetime_tel'] > test_maint_comp1['datetime_maint']) \n",
    "                                            & (test_maint_comp1['comp1sum'] == '1'))).drop(test_maint_comp1.machineID)\n",
    "\n",
    "comp1 = (test_maint_tel_comp1.withColumn(\"sincelastcomp1\", \n",
    "              datediff(test_maint_tel_comp1.datetime_tel, test_maint_tel_comp1.datetime_maint))\n",
    "              .drop(test_maint_tel_comp1.datetime_maint).drop(test_maint_tel_comp1.comp1sum))\n",
    "\n",
    "comp1.show(5)"
   ]
  },
  {
   "cell_type": "markdown",
   "metadata": {},
   "source": [
    "## Days since last replacement for component-2"
   ]
  },
  {
   "cell_type": "code",
   "execution_count": 18,
   "metadata": {},
   "outputs": [
    {
     "name": "stdout",
     "output_type": "stream",
     "text": [
      "+-------------------+---------+--------------+\n",
      "|       datetime_tel|machineID|sincelastcomp2|\n",
      "+-------------------+---------+--------------+\n",
      "|2015-01-08 10:00:00|      501|            41|\n",
      "|2015-01-08 11:00:00|      501|            41|\n",
      "|2015-01-08 12:00:00|      501|            41|\n",
      "|2015-01-08 13:00:00|      501|            41|\n",
      "|2015-01-08 14:00:00|      501|            41|\n",
      "+-------------------+---------+--------------+\n",
      "only showing top 5 rows\n",
      "\n"
     ]
    }
   ],
   "source": [
    "test_maint_comp2 = (maint3.where(col(\"comp2sum\") == '1').withColumnRenamed('datetime','datetime_maint')\n",
    "                         .drop('comp1sum', 'comp3sum', 'comp4sum'))\n",
    "\n",
    "test_tel_comp2 = (telemetry.withColumnRenamed('datetime','datetime_tel')\n",
    "                          .drop(telemetry.volt).drop(telemetry.rotate).drop(telemetry.pressure)\n",
    "                          .drop(telemetry.vibration))\n",
    "\n",
    "test_maint_tel_comp2 = (test_tel_comp2.join(test_maint_comp2, ((test_tel_comp2['machineID']==\n",
    "                                                                test_maint_comp2['machineID']) \n",
    "                                        & (test_tel_comp2['datetime_tel'] > test_maint_comp2['datetime_maint']) \n",
    "                                        & (test_maint_comp2['comp2sum'] == '1') \n",
    "                                           )).drop(test_maint_comp2.machineID))\n",
    "\n",
    "comp2 = (test_maint_tel_comp2.withColumn(\"sincelastcomp2\", \n",
    "              datediff(test_maint_tel_comp2.datetime_tel, test_maint_tel_comp2.datetime_maint))\n",
    "              .drop(test_maint_tel_comp2.datetime_maint).drop(test_maint_tel_comp2.comp2sum))\n",
    "comp2.show(5)"
   ]
  },
  {
   "cell_type": "markdown",
   "metadata": {},
   "source": [
    "## Days since last replacement for component-3"
   ]
  },
  {
   "cell_type": "code",
   "execution_count": 19,
   "metadata": {},
   "outputs": [
    {
     "name": "stdout",
     "output_type": "stream",
     "text": [
      "+-------------------+---------+--------------+\n",
      "|       datetime_tel|machineID|sincelastcomp3|\n",
      "+-------------------+---------+--------------+\n",
      "|2015-01-08 10:00:00|      501|           206|\n",
      "|2015-01-08 11:00:00|      501|           206|\n",
      "|2015-01-08 12:00:00|      501|           206|\n",
      "|2015-01-08 13:00:00|      501|           206|\n",
      "|2015-01-08 14:00:00|      501|           206|\n",
      "+-------------------+---------+--------------+\n",
      "only showing top 5 rows\n",
      "\n"
     ]
    }
   ],
   "source": [
    "test_maint_comp3 = (maint3.where(col(\"comp3sum\") == '1').withColumnRenamed('datetime','datetime_maint')\n",
    "                          .drop('comp1sum', 'comp2sum', 'comp4sum'))\n",
    "\n",
    "test_tel_comp3 = (telemetry.withColumnRenamed('datetime','datetime_tel')\n",
    "                    .drop(telemetry.volt).drop(telemetry.rotate).drop(telemetry.pressure).drop(telemetry.vibration))\n",
    "\n",
    "test_maint_tel_comp3 = test_tel_comp3.join(test_maint_comp3, ((test_tel_comp3['machineID']==\n",
    "                                                               test_maint_comp3['machineID']) \n",
    "                                        & (test_tel_comp3['datetime_tel'] > test_maint_comp3['datetime_maint']) \n",
    "                                        & (test_maint_comp3['comp3sum'] == '1') \n",
    "                                           )).drop(test_maint_comp3.machineID)\n",
    "\n",
    "comp3 = (test_maint_tel_comp3.withColumn(\"sincelastcomp3\", \n",
    "              datediff(test_maint_tel_comp3.datetime_tel, test_maint_tel_comp3.datetime_maint))\n",
    "              .drop(test_maint_tel_comp3.datetime_maint).drop(test_maint_tel_comp3.comp3sum))\n",
    "comp3.show(5)"
   ]
  },
  {
   "cell_type": "markdown",
   "metadata": {},
   "source": [
    "## Days since last replacement for component-4"
   ]
  },
  {
   "cell_type": "code",
   "execution_count": 20,
   "metadata": {},
   "outputs": [
    {
     "name": "stdout",
     "output_type": "stream",
     "text": [
      "+-------------------+---------+--------------+\n",
      "|       datetime_tel|machineID|sincelastcomp4|\n",
      "+-------------------+---------+--------------+\n",
      "|2015-01-08 10:00:00|      501|           131|\n",
      "|2015-01-08 11:00:00|      501|           131|\n",
      "|2015-01-08 12:00:00|      501|           131|\n",
      "|2015-01-08 13:00:00|      501|           131|\n",
      "|2015-01-08 14:00:00|      501|           131|\n",
      "+-------------------+---------+--------------+\n",
      "only showing top 5 rows\n",
      "\n"
     ]
    }
   ],
   "source": [
    "test_maint_comp4 = (maint3.where(col(\"comp4sum\") == '1').withColumnRenamed('datetime','datetime_maint')\n",
    "                         .drop('comp1sum', 'comp2sum', 'comp3sum'))\n",
    "\n",
    "test_tel_comp4 = (telemetry.withColumnRenamed('datetime','datetime_tel')\n",
    "                  .drop(telemetry.volt).drop(telemetry.rotate).drop(telemetry.pressure).drop(telemetry.vibration))\n",
    "\n",
    "test_maint_tel_comp4 = test_tel_comp4.join(test_maint_comp4, ((test_tel_comp4['machineID']==\n",
    "                                                               test_maint_comp4['machineID']) \n",
    "                                        & (test_tel_comp4['datetime_tel'] > test_maint_comp4['datetime_maint']) \n",
    "                                        & (test_maint_comp4['comp4sum'] == '1'))).drop(test_maint_comp4.machineID)\n",
    "\n",
    "comp4 = (test_maint_tel_comp4.withColumn(\"sincelastcomp4\", \n",
    "              datediff(test_maint_tel_comp4.datetime_tel, test_maint_tel_comp4.datetime_maint))\n",
    "              .drop(test_maint_tel_comp4.datetime_maint).drop(test_maint_tel_comp4.comp4sum))\n",
    "comp4.show(5)"
   ]
  },
  {
   "cell_type": "markdown",
   "metadata": {},
   "source": [
    "##  Combine comp1, comp2, comp3, comp4 to generate the maintenance feature set"
   ]
  },
  {
   "cell_type": "code",
   "execution_count": 22,
   "metadata": {},
   "outputs": [
    {
     "name": "stdout",
     "output_type": "stream",
     "text": [
      "+---------+-------------------+--------------+--------------+--------------+--------------+\n",
      "|machineID|       datetime_tel|sincelastcomp1|sincelastcomp2|sincelastcomp3|sincelastcomp4|\n",
      "+---------+-------------------+--------------+--------------+--------------+--------------+\n",
      "|        1|2015-01-26 15:00:00|           134|           134|            74|           209|\n",
      "|        1|2015-02-01 04:00:00|           140|           140|            80|           215|\n",
      "|        1|2015-02-05 01:00:00|           144|           144|            84|           219|\n",
      "|        1|2015-02-13 13:00:00|           152|           152|            92|           227|\n",
      "|        1|2015-03-17 21:00:00|           184|           184|           124|           259|\n",
      "+---------+-------------------+--------------+--------------+--------------+--------------+\n",
      "only showing top 5 rows\n",
      "\n"
     ]
    }
   ],
   "source": [
    "# left join comp1 with (comp2, comp3, comp4) \n",
    "# left join comp2 with (comp3, comp4) \n",
    "# left join comp3, comp4 \n",
    "comp3_4 = (comp3.join(comp4, ((comp3['machineID'] == comp4['machineID']) \n",
    "                                  & (comp3['datetime_tel'] == comp4['datetime_tel'])), \"left\")\n",
    "                                  .drop(comp4.machineID).drop(comp4.datetime_tel))\n",
    "comp2_3_4 = (comp2.join(comp3_4, ((comp2['machineID'] == comp3_4['machineID']) \n",
    "                                  & (comp2['datetime_tel'] == comp3_4['datetime_tel'])), \"left\")\n",
    "                                  .drop(comp3_4.machineID).drop(comp3_4.datetime_tel))\n",
    "comp1_2_3_4 = (comp1.join(comp2_3_4, ((comp1['machineID'] == comp2_3_4['machineID']) \n",
    "                                  & (comp1['datetime_tel'] == comp2_3_4['datetime_tel'])), \"left\")\n",
    "                                 .drop(comp2_3_4.machineID).drop(comp2_3_4.datetime_tel))\n",
    "comp1_2_3_4_final = (comp1_2_3_4.groupBy(\"machineID\", \"datetime_tel\")\n",
    "                                .agg(F.max('sincelastcomp1').alias('sincelastcomp1'), \n",
    "                                     F.max('sincelastcomp2').alias('sincelastcomp2'), \n",
    "                                     F.max('sincelastcomp3').alias('sincelastcomp3'), \n",
    "                                     F.max('sincelastcomp4').alias('sincelastcomp4')))\n",
    "\n",
    "# fill in missing value\n",
    "maint_count1 = comp1_2_3_4_final.fillna(0)\n",
    "\n",
    "maint_count1.show(5)"
   ]
  },
  {
   "cell_type": "markdown",
   "metadata": {},
   "source": [
    "### Resample to every 3 hours"
   ]
  },
  {
   "cell_type": "code",
   "execution_count": 23,
   "metadata": {},
   "outputs": [
    {
     "name": "stdout",
     "output_type": "stream",
     "text": [
      "+---------+--------------------+--------+--------+--------+--------+\n",
      "|machineID|        dt_truncated|comp1sum|comp2sum|comp3sum|comp4sum|\n",
      "+---------+--------------------+--------+--------+--------+--------+\n",
      "|        6|2015-11-29 18:00:...|   366.0|   381.0|   471.0|   501.0|\n",
      "|        7|2015-06-10 18:00:...|   269.0|   224.0|   344.0|   269.0|\n",
      "|        7|2015-12-13 18:00:...|   455.0|   410.0|   530.0|   455.0|\n",
      "|       12|2015-01-01 06:00:...|    64.0|    34.0|    64.0|    79.0|\n",
      "|       20|2015-10-15 03:00:...|   351.0|   426.0|   456.0|   441.0|\n",
      "+---------+--------------------+--------+--------+--------+--------+\n",
      "only showing top 5 rows\n",
      "\n"
     ]
    }
   ],
   "source": [
    "# maint_count1 maintenance \n",
    "dt_truncated = ((round(unix_timestamp(col(\"datetime_tel\").cast(\"timestamp\")) / time_val) * time_val)\n",
    "    .cast(\"timestamp\"))\n",
    "\n",
    "maint_resampled = maint_count1.withColumn(\"dt_truncated\", dt_truncated)\n",
    "maint_resampled1 = (maint_resampled.groupBy(\"machineID\",\"dt_truncated\")\n",
    "                                  .agg(F.mean('sincelastcomp1').alias('comp1sum'), \n",
    "                                       F.mean('sincelastcomp2').alias('comp2sum'), \n",
    "                                       F.mean('sincelastcomp3').alias('comp3sum'), \n",
    "                                       F.mean('sincelastcomp4').alias('comp4sum')))\n",
    "maint_resampled1.show(5)"
   ]
  },
  {
   "cell_type": "markdown",
   "metadata": {},
   "source": [
    "## Machine features\n",
    "\n",
    "The machine features can be used without further modification. These include descriptive information about the type of each machine and its age (number of years in service). If the age information had been recorded as a \"first use date\" for each machine, a transformation would have been necessary to turn those into a numeric values indicating the years in service.\n",
    "\n",
    "We do need to create a set of dummy features, boolean variables to indicate the model name of the machine. This is a _one-hot encoding_ step. "
   ]
  },
  {
   "cell_type": "code",
   "execution_count": 24,
   "metadata": {},
   "outputs": [
    {
     "name": "stdout",
     "output_type": "stream",
     "text": [
      "+---------+------+---+-------------+\n",
      "|machineID| model|age|model_encoded|\n",
      "+---------+------+---+-------------+\n",
      "|        1|model2| 18|(3,[2],[1.0])|\n",
      "|        2|model4|  7|(3,[1],[1.0])|\n",
      "|        3|model3|  8|(3,[0],[1.0])|\n",
      "|        4|model3|  7|(3,[0],[1.0])|\n",
      "|        5|model2|  2|(3,[2],[1.0])|\n",
      "+---------+------+---+-------------+\n",
      "only showing top 5 rows\n",
      "\n"
     ]
    }
   ],
   "source": [
    "# one hot encoding of the variable model\n",
    "catVarNames = ['model']  \n",
    "    \n",
    "sIndexers = [StringIndexer(inputCol=x, outputCol=x + '_indexed') for x in catVarNames]\n",
    "\n",
    "machines_cat = Pipeline(stages=sIndexers).fit(machines).transform(machines)\n",
    "\n",
    "# one-hot encode\n",
    "ohEncoders = [OneHotEncoder(inputCol=x + '_indexed', outputCol=x + '_encoded')\n",
    "              for x in catVarNames]\n",
    "ohPipelineModel = Pipeline(stages=ohEncoders).fit(machines_cat)\n",
    "machines_cat = ohPipelineModel.transform(machines_cat)\n",
    "\n",
    "drop_list = [col_n for col_n in machines_cat.columns if 'indexed' in col_n]\n",
    "\n",
    "machines_edit = machines_cat.select([column for column in machines_cat.columns if column not in drop_list])\n",
    "\n",
    "machines_edit.show(5)"
   ]
  },
  {
   "cell_type": "markdown",
   "metadata": {},
   "source": [
    "## Join data into feature engineering set\n"
   ]
  },
  {
   "cell_type": "code",
   "execution_count": 25,
   "metadata": {},
   "outputs": [
    {
     "name": "stdout",
     "output_type": "stream",
     "text": [
      "+---------+---------------------+------------------+--------------------+----------------------+-----------------------+-------------------+---------------------+-----------------------+------------------------+------------------+-------------------+---------------------+----------------------+--------------------+--------------------+----------------------+-----------------------+------------------------+------------------------+------------------------+------------------------+------------------------+--------+--------+--------+--------+------+---+-------------+\n",
      "|machineID|dt_truncated         |volt_rollingmean_3|rotate_rollingmean_3|pressure_rollingmean_3|vibration_rollingmean_3|volt_rollingmean_24|rotate_rollingmean_24|pressure_rollingmean_24|vibration_rollingmean_24|volt_rollingstd_3 |rotate_rollingstd_3|pressure_rollingstd_3|vibration_rollingstd_3|volt_rollingstd_24  |rotate_rollingstd_24|pressure_rollingstd_24|vibration_rollingstd_24|error1sum_rollingmean_24|error2sum_rollingmean_24|error3sum_rollingmean_24|error4sum_rollingmean_24|error5sum_rollingmean_24|comp1sum|comp2sum|comp3sum|comp4sum|model |age|model_encoded|\n",
      "+---------+---------------------+------------------+--------------------+----------------------+-----------------------+-------------------+---------------------+-----------------------+------------------------+------------------+-------------------+---------------------+----------------------+--------------------+--------------------+----------------------+-----------------------+------------------------+------------------------+------------------------+------------------------+------------------------+--------+--------+--------+--------+------+---+-------------+\n",
      "|1        |2015-01-09 06:00:00.0|161.75822039969265|460.19122771637194  |96.33581190806927     |39.05154081456584      |168.1002782311335  |438.4083232471071    |100.43570467294141     |41.14301368062713       |2.542234024472024 |13.617557960927996 |1.6368285722336686   |1.2646011961966062    |0.39037738598888444 |0.6967258842194537  |0.3905159457905268    |0.26507741917907035    |0.0                     |0.0                     |0.0                     |0.0                     |0.0                     |117.0   |117.0   |57.0    |192.0   |model2|18 |(3,[2],[1.0])|\n",
      "|1        |2015-04-02 12:00:00.0|177.06842938427155|433.3785596161658   |96.49898805181249     |38.821065517975455     |172.38412632481752 |447.0991192778669    |100.85674003785881     |39.575156840741755      |5.7938241471922565|12.301514610951896 |1.2704555549928342   |0.21769217069066335   |0.018506247059433746|0.7848042066446163  |0.17624902212551874   |0.034672566047166585   |0.0                     |0.0                     |0.0                     |0.0                     |0.0                     |200.0   |200.0   |140.0   |275.0   |model2|18 |(3,[2],[1.0])|\n",
      "|1        |2015-04-11 18:00:00.0|171.0146955168668 |411.4979930544696   |97.44048007412158     |41.01113803162908      |172.0954666876423  |443.3247742384972    |98.03777471754762      |39.49988475959191       |6.437136070381167 |16.375696009343418 |3.1456059589424905   |0.46377854796848134   |0.21969677695708548 |2.096752936434957   |0.29643376167479984   |0.09699918469482667    |0.0                     |0.0                     |0.0                     |0.0                     |0.0                     |209.0   |209.0   |149.0   |284.0   |model2|18 |(3,[2],[1.0])|\n",
      "|1        |2015-04-17 15:00:00.0|161.94447082710374|429.70735827325115  |100.45362405785102    |43.356965109332805     |166.04977910605407 |442.5746751021223    |98.37974811687315      |41.18633692967534       |10.772186767572537|1.933756987928944  |2.8390663171218895   |3.337395318638352     |0.5308084235111077  |0.5690940547584372  |0.034360635699070025  |0.03779232878055877    |0.0                     |0.0                     |0.0                     |0.0                     |0.0                     |215.0   |215.0   |155.0   |290.0   |model2|18 |(3,[2],[1.0])|\n",
      "|1        |2015-04-18 21:00:00.0|178.59377753205504|457.46872934634433  |101.43635000342873    |43.940495521297954     |172.6484943238571  |447.92455854504277   |99.06595414410486      |40.058576989487484      |4.205956548824493 |19.8612172256757   |4.228484220284129    |3.5096040058437254    |0.30478627453359863 |2.4698115777571075  |0.436034444062072     |0.1574975398138708     |0.0                     |0.0                     |0.0                     |0.0                     |0.0                     |216.0   |216.0   |156.0   |291.0   |model2|18 |(3,[2],[1.0])|\n",
      "+---------+---------------------+------------------+--------------------+----------------------+-----------------------+-------------------+---------------------+-----------------------+------------------------+------------------+-------------------+---------------------+----------------------+--------------------+--------------------+----------------------+-----------------------+------------------------+------------------------+------------------------+------------------------+------------------------+--------+--------+--------+--------+------+---+-------------+\n",
      "only showing top 5 rows\n",
      "\n"
     ]
    }
   ],
   "source": [
    "# join error with components\n",
    "#err_mean_resampled1.show(3)\n",
    "#maint_resampled1.show(3)\n",
    "\n",
    "error_maint = (err_mean_resampled1.join(maint_resampled1, \n",
    "                                ((err_mean_resampled1['machineID'] == maint_resampled1['machineID']) \n",
    "                                  & (err_mean_resampled1['dt_truncated'] == maint_resampled1['dt_truncated'])), \"left\")\n",
    "                                  .drop(maint_resampled1.machineID).drop(maint_resampled1.dt_truncated))\n",
    "#error_maint.show(10, False)\n",
    "#error_maint.count(), len(error_maint.columns)\n",
    "\n",
    "# now join with machines\n",
    "#machines_edit.show(1)\n",
    "\n",
    "err_maint_mach = (error_maint.join(machines_edit, ((error_maint['machineID'] == machines_edit['machineID'])), \"left\")\n",
    "                             .drop(machines_edit.machineID))\n",
    "err_maint_mach_select = (err_maint_mach.select([c for c in err_maint_mach.columns if c not in \n",
    "                                               {'error1sum', 'error2sum', 'error3sum', 'error4sum', 'error5sum'}]))\n",
    "#err_maint_mach_select.show(10, False)\n",
    "#err_maint_mach_select.count(), len(err_maint_mach_select.columns)\n",
    "\n",
    "telemetry_all = (tel_mean_resampled1.join(tel_sd_resampled1, \n",
    "                             ((tel_mean_resampled1['machineID'] == tel_sd_resampled1['machineID']) \n",
    "                              & (tel_mean_resampled1['dt_truncated'] == tel_sd_resampled1['dt_truncated'])), \"left\")\n",
    "                              .drop(tel_sd_resampled1.machineID).drop(tel_sd_resampled1.dt_truncated))\n",
    "#telemetry_all.show(10, False)\n",
    "#telemetry_all.count(), len(telemetry_all.columns)\n",
    "\n",
    "# join telemetry_all with err_maint_mach_select to create final feature matrix\n",
    "final_feat = (telemetry_all.join(err_maint_mach_select, \n",
    "                                ((telemetry_all['machineID'] == err_maint_mach_select['machineID']) \n",
    "                                  & (telemetry_all['dt_truncated'] == err_maint_mach_select['dt_truncated'])), \"left\")\n",
    "                                 .drop(err_maint_mach_select.machineID).drop(err_maint_mach_select.dt_truncated))\n",
    "final_feat.show(5, False)\n",
    "#final_feat.count(), len(final_feat.columns)"
   ]
  },
  {
   "cell_type": "markdown",
   "metadata": {},
   "source": [
    "# Label construction\n",
    "\n",
    "When using multi-class classification for predicting failure due to a problem, labelling is done by taking a time window prior to the failure of an asset and labelling the feature records that fall into that window as \"about to fail due to a problem\" while labelling all other records as \"Â€Âœnormal.\" This time window should be picked according to the business case: in some situations it may be enough to predict failures hours in advance, while in others days or weeks may be needed to allow e.g. for arrival of replacement parts.\n",
    "\n",
    "The prediction problem for this example scenerio is to estimate the probability that a machine will fail in the near future due to a failure of a certain component. More specifically, the goal is to compute the probability that a machine will fail in the next 24 hours due to a certain component failure (component 1, 2, 3, or 4). Below, a categorical failure feature is created to serve as the label. All records within a 24 hour window before a failure of component 1 have failure=comp1, and so on for components 2, 3, and 4; all records not within 24 hours of a component failure have failure=none."
   ]
  },
  {
   "cell_type": "code",
   "execution_count": 26,
   "metadata": {},
   "outputs": [
    {
     "name": "stdout",
     "output_type": "stream",
     "text": [
      "+-------------------+---------+-------+\n",
      "|           datetime|machineID|failure|\n",
      "+-------------------+---------+-------+\n",
      "|2015-09-18 06:00:00|      453|  comp2|\n",
      "|2015-12-17 06:00:00|      453|  comp2|\n",
      "|2015-03-27 06:00:00|      454|  comp2|\n",
      "|2015-08-24 06:00:00|      454|  comp2|\n",
      "|2015-09-23 06:00:00|      454|  comp1|\n",
      "+-------------------+---------+-------+\n",
      "only showing top 5 rows\n",
      "\n"
     ]
    },
    {
     "data": {
      "text/plain": [
       "(6726, 3)"
      ]
     },
     "execution_count": 26,
     "metadata": {},
     "output_type": "execute_result"
    }
   ],
   "source": [
    "# check failure sample data\n",
    "failures.show(5)\n",
    "\n",
    "# check the dimensions of the data\n",
    "failures.count(), len(failures.columns)"
   ]
  },
  {
   "cell_type": "code",
   "execution_count": 27,
   "metadata": {},
   "outputs": [
    {
     "data": {
      "text/plain": [
       "(6368, 3)"
      ]
     },
     "execution_count": 27,
     "metadata": {},
     "output_type": "execute_result"
    }
   ],
   "source": [
    "# check to see if there are duplicate rows based on machine, datetime\n",
    "failures1 = failures.dropDuplicates(['machineID', 'datetime'])\n",
    "\n",
    "# check the dimensions of the data\n",
    "failures1.count(), len(failures1.columns)"
   ]
  },
  {
   "cell_type": "code",
   "execution_count": 28,
   "metadata": {},
   "outputs": [
    {
     "name": "stdout",
     "output_type": "stream",
     "text": [
      "+---------+---------------------+------------------+--------------------+----------------------+-----------------------+-------------------+---------------------+-----------------------+------------------------+------------------+-------------------+---------------------+----------------------+--------------------+--------------------+----------------------+-----------------------+------------------------+------------------------+------------------------+------------------------+------------------------+--------+--------+--------+--------+------+---+-------------+-------+\n",
      "|machineID|dt_truncated         |volt_rollingmean_3|rotate_rollingmean_3|pressure_rollingmean_3|vibration_rollingmean_3|volt_rollingmean_24|rotate_rollingmean_24|pressure_rollingmean_24|vibration_rollingmean_24|volt_rollingstd_3 |rotate_rollingstd_3|pressure_rollingstd_3|vibration_rollingstd_3|volt_rollingstd_24  |rotate_rollingstd_24|pressure_rollingstd_24|vibration_rollingstd_24|error1sum_rollingmean_24|error2sum_rollingmean_24|error3sum_rollingmean_24|error4sum_rollingmean_24|error5sum_rollingmean_24|comp1sum|comp2sum|comp3sum|comp4sum|model |age|model_encoded|failure|\n",
      "+---------+---------------------+------------------+--------------------+----------------------+-----------------------+-------------------+---------------------+-----------------------+------------------------+------------------+-------------------+---------------------+----------------------+--------------------+--------------------+----------------------+-----------------------+------------------------+------------------------+------------------------+------------------------+------------------------+--------+--------+--------+--------+------+---+-------------+-------+\n",
      "|1        |2015-01-09 06:00:00.0|161.75822039969265|460.19122771637194  |96.33581190806927     |39.05154081456584      |168.1002782311335  |438.4083232471071    |100.43570467294141     |41.14301368062713       |2.542234024472024 |13.617557960927996 |1.6368285722336686   |1.2646011961966062    |0.39037738598888444 |0.6967258842194537  |0.3905159457905268    |0.26507741917907035    |0.0                     |0.0                     |0.0                     |0.0                     |0.0                     |117.0   |117.0   |57.0    |192.0   |model2|18 |(3,[2],[1.0])|null   |\n",
      "|1        |2015-04-02 12:00:00.0|177.06842938427155|433.3785596161658   |96.49898805181249     |38.821065517975455     |172.38412632481752 |447.0991192778669    |100.85674003785881     |39.575156840741755      |5.7938241471922565|12.301514610951896 |1.2704555549928342   |0.21769217069066335   |0.018506247059433746|0.7848042066446163  |0.17624902212551874   |0.034672566047166585   |0.0                     |0.0                     |0.0                     |0.0                     |0.0                     |200.0   |200.0   |140.0   |275.0   |model2|18 |(3,[2],[1.0])|null   |\n",
      "|1        |2015-04-11 18:00:00.0|171.0146955168668 |411.4979930544696   |97.44048007412158     |41.01113803162908      |172.0954666876423  |443.3247742384972    |98.03777471754762      |39.49988475959191       |6.437136070381167 |16.375696009343418 |3.1456059589424905   |0.46377854796848134   |0.21969677695708548 |2.096752936434957   |0.29643376167479984   |0.09699918469482667    |0.0                     |0.0                     |0.0                     |0.0                     |0.0                     |209.0   |209.0   |149.0   |284.0   |model2|18 |(3,[2],[1.0])|null   |\n",
      "|1        |2015-04-17 15:00:00.0|161.94447082710374|429.70735827325115  |100.45362405785102    |43.356965109332805     |166.04977910605407 |442.5746751021223    |98.37974811687315      |41.18633692967534       |10.772186767572537|1.933756987928944  |2.8390663171218895   |3.337395318638352     |0.5308084235111077  |0.5690940547584372  |0.034360635699070025  |0.03779232878055877    |0.0                     |0.0                     |0.0                     |0.0                     |0.0                     |215.0   |215.0   |155.0   |290.0   |model2|18 |(3,[2],[1.0])|null   |\n",
      "|1        |2015-04-18 21:00:00.0|178.59377753205504|457.46872934634433  |101.43635000342873    |43.940495521297954     |172.6484943238571  |447.92455854504277   |99.06595414410486      |40.058576989487484      |4.205956548824493 |19.8612172256757   |4.228484220284129    |3.5096040058437254    |0.30478627453359863 |2.4698115777571075  |0.436034444062072     |0.1574975398138708     |0.0                     |0.0                     |0.0                     |0.0                     |0.0                     |216.0   |216.0   |156.0   |291.0   |model2|18 |(3,[2],[1.0])|null   |\n",
      "+---------+---------------------+------------------+--------------------+----------------------+-----------------------+-------------------+---------------------+-----------------------+------------------------+------------------+-------------------+---------------------+----------------------+--------------------+--------------------+----------------------+-----------------------+------------------------+------------------------+------------------------+------------------------+------------------------+--------+--------+--------+--------+------+---+-------------+-------+\n",
      "only showing top 5 rows\n",
      "\n"
     ]
    }
   ],
   "source": [
    "# map the failure data to final feature matrix\n",
    "\n",
    "labeled_features = (final_feat.join(failures1, ((final_feat['machineID'] == failures1['machineID']) \n",
    "                                  & (final_feat['dt_truncated'] == failures1['datetime'])), \"left\")\n",
    "                                  .drop(failures1.machineID).drop(failures1.datetime))\n",
    "labeled_features.show(5, False)\n",
    "#labeled_features.count(), len(labeled_features.columns)"
   ]
  },
  {
   "cell_type": "code",
   "execution_count": 29,
   "metadata": {
    "collapsed": true
   },
   "outputs": [],
   "source": [
    "# recoding the column 'failure' to be numeric double for the pyspark classification models\n",
    "labeled_features1 = (labeled_features.withColumn('failure', F.when(col('failure') == \"comp1\", 1.0)\n",
    "                                     .otherwise(col('failure')))\n",
    "                                     .withColumn('failure', F.when(col('failure') == \"comp2\", 2.0)\n",
    "                                     .otherwise(col('failure')))\n",
    "                                     .withColumn('failure', F.when(col('failure') == \"comp3\", 3.0)\n",
    "                                     .otherwise(col('failure')))\n",
    "                                     .withColumn('failure', F.when(col('failure') == \"comp4\", 4.0)\n",
    "                                     .otherwise(col('failure'))))\n",
    "\n",
    "labeled_features2 = labeled_features1.withColumn(\"failure1\", labeled_features1[\"failure\"].cast(DoubleType()))\n",
    "\n",
    "#labeled_features2.groupBy('failure').count().show()\n",
    "#labeled_features2.groupBy('failure1').count().show()"
   ]
  },
  {
   "cell_type": "code",
   "execution_count": 30,
   "metadata": {},
   "outputs": [
    {
     "data": {
      "text/plain": [
       "[('machineID', 'bigint'),\n",
       " ('dt_truncated', 'timestamp'),\n",
       " ('volt_rollingmean_3', 'double'),\n",
       " ('rotate_rollingmean_3', 'double'),\n",
       " ('pressure_rollingmean_3', 'double'),\n",
       " ('vibration_rollingmean_3', 'double'),\n",
       " ('volt_rollingmean_24', 'double'),\n",
       " ('rotate_rollingmean_24', 'double'),\n",
       " ('pressure_rollingmean_24', 'double'),\n",
       " ('vibration_rollingmean_24', 'double'),\n",
       " ('volt_rollingstd_3', 'double'),\n",
       " ('rotate_rollingstd_3', 'double'),\n",
       " ('pressure_rollingstd_3', 'double'),\n",
       " ('vibration_rollingstd_3', 'double'),\n",
       " ('volt_rollingstd_24', 'double'),\n",
       " ('rotate_rollingstd_24', 'double'),\n",
       " ('pressure_rollingstd_24', 'double'),\n",
       " ('vibration_rollingstd_24', 'double'),\n",
       " ('error1sum_rollingmean_24', 'double'),\n",
       " ('error2sum_rollingmean_24', 'double'),\n",
       " ('error3sum_rollingmean_24', 'double'),\n",
       " ('error4sum_rollingmean_24', 'double'),\n",
       " ('error5sum_rollingmean_24', 'double'),\n",
       " ('comp1sum', 'double'),\n",
       " ('comp2sum', 'double'),\n",
       " ('comp3sum', 'double'),\n",
       " ('comp4sum', 'double'),\n",
       " ('model', 'string'),\n",
       " ('age', 'bigint'),\n",
       " ('model_encoded', 'vector'),\n",
       " ('failure', 'string'),\n",
       " ('failure1', 'double')]"
      ]
     },
     "execution_count": 30,
     "metadata": {},
     "output_type": "execute_result"
    }
   ],
   "source": [
    "# check data schema\n",
    "labeled_features2.dtypes"
   ]
  },
  {
   "cell_type": "code",
   "execution_count": 31,
   "metadata": {},
   "outputs": [
    {
     "data": {
      "text/plain": [
       "[('machineID', 'bigint'),\n",
       " ('dt_truncated', 'timestamp'),\n",
       " ('volt_rollingmean_3', 'double'),\n",
       " ('rotate_rollingmean_3', 'double'),\n",
       " ('pressure_rollingmean_3', 'double'),\n",
       " ('vibration_rollingmean_3', 'double'),\n",
       " ('volt_rollingmean_24', 'double'),\n",
       " ('rotate_rollingmean_24', 'double'),\n",
       " ('pressure_rollingmean_24', 'double'),\n",
       " ('vibration_rollingmean_24', 'double'),\n",
       " ('volt_rollingstd_3', 'double'),\n",
       " ('rotate_rollingstd_3', 'double'),\n",
       " ('pressure_rollingstd_3', 'double'),\n",
       " ('vibration_rollingstd_3', 'double'),\n",
       " ('volt_rollingstd_24', 'double'),\n",
       " ('rotate_rollingstd_24', 'double'),\n",
       " ('pressure_rollingstd_24', 'double'),\n",
       " ('vibration_rollingstd_24', 'double'),\n",
       " ('error1sum_rollingmean_24', 'double'),\n",
       " ('error2sum_rollingmean_24', 'double'),\n",
       " ('error3sum_rollingmean_24', 'double'),\n",
       " ('error4sum_rollingmean_24', 'double'),\n",
       " ('error5sum_rollingmean_24', 'double'),\n",
       " ('comp1sum', 'double'),\n",
       " ('comp2sum', 'double'),\n",
       " ('comp3sum', 'double'),\n",
       " ('comp4sum', 'double'),\n",
       " ('model', 'string'),\n",
       " ('age', 'bigint'),\n",
       " ('model_encoded', 'vector'),\n",
       " ('failure1', 'double')]"
      ]
     },
     "execution_count": 31,
     "metadata": {},
     "output_type": "execute_result"
    }
   ],
   "source": [
    "labeled_features3 = labeled_features2.drop('failure').fillna(0)\n",
    "labeled_features3.dtypes\n",
    "#labeled_features3.groupBy('failure1').count().show()"
   ]
  },
  {
   "cell_type": "code",
   "execution_count": 32,
   "metadata": {},
   "outputs": [
    {
     "name": "stdout",
     "output_type": "stream",
     "text": [
      "+---------+--------------------+------------------+--------------------+----------------------+-----------------------+-------------------+---------------------+-----------------------+------------------------+-----------------+-------------------+---------------------+----------------------+-------------------+--------------------+----------------------+-----------------------+------------------------+------------------------+------------------------+------------------------+------------------------+--------+--------+--------+--------+------+---+-------------+--------+\n",
      "|machineID|        dt_truncated|volt_rollingmean_3|rotate_rollingmean_3|pressure_rollingmean_3|vibration_rollingmean_3|volt_rollingmean_24|rotate_rollingmean_24|pressure_rollingmean_24|vibration_rollingmean_24|volt_rollingstd_3|rotate_rollingstd_3|pressure_rollingstd_3|vibration_rollingstd_3| volt_rollingstd_24|rotate_rollingstd_24|pressure_rollingstd_24|vibration_rollingstd_24|error1sum_rollingmean_24|error2sum_rollingmean_24|error3sum_rollingmean_24|error4sum_rollingmean_24|error5sum_rollingmean_24|comp1sum|comp2sum|comp3sum|comp4sum| model|age|model_encoded|failure1|\n",
      "+---------+--------------------+------------------+--------------------+----------------------+-----------------------+-------------------+---------------------+-----------------------+------------------------+-----------------+-------------------+---------------------+----------------------+-------------------+--------------------+----------------------+-----------------------+------------------------+------------------------+------------------------+------------------------+------------------------+--------+--------+--------+--------+------+---+-------------+--------+\n",
      "|        1|2015-01-09 06:00:...|161.75822039969265|  460.19122771637194|     96.33581190806927|      39.05154081456584|  168.1002782311335|    438.4083232471071|     100.43570467294141|       41.14301368062713|2.542234024472024| 13.617557960927996|   1.6368285722336686|    1.2646011961966062|0.39037738598888444|  0.6967258842194537|    0.3905159457905268|    0.26507741917907035|                     0.0|                     0.0|                     0.0|                     0.0|                     0.0|   117.0|   117.0|    57.0|   192.0|model2| 18|(3,[2],[1.0])|     0.0|\n",
      "+---------+--------------------+------------------+--------------------+----------------------+-----------------------+-------------------+---------------------+-----------------------+------------------------+-----------------+-------------------+---------------------+----------------------+-------------------+--------------------+----------------------+-----------------------+------------------------+------------------------+------------------------+------------------------+------------------------+--------+--------+--------+--------+------+---+-------------+--------+\n",
      "only showing top 1 row\n",
      "\n"
     ]
    }
   ],
   "source": [
    "# build the code for backfill with all machine data\n",
    "label_bfill1 = labeled_features3\n",
    "label_bfill1.show(1)"
   ]
  },
  {
   "cell_type": "code",
   "execution_count": 33,
   "metadata": {
    "collapsed": true
   },
   "outputs": [],
   "source": [
    "# lag values to manually backfill label (bfill =7)\n",
    "my_window = Window.partitionBy('machineID').orderBy(label_bfill1.dt_truncated.desc())\n",
    "\n",
    "label_bfill1 = label_bfill1.withColumn(\"prev_value1\", F.lag(label_bfill1.failure1).over(my_window)).fillna(0)\n",
    "label_bfill1 = label_bfill1.withColumn(\"prev_value2\", F.lag(label_bfill1.prev_value1).over(my_window)).fillna(0) \n",
    "label_bfill1 = label_bfill1.withColumn(\"prev_value3\", F.lag(label_bfill1.prev_value2).over(my_window)).fillna(0) \n",
    "label_bfill1 = label_bfill1.withColumn(\"prev_value4\", F.lag(label_bfill1.prev_value3).over(my_window)).fillna(0) \n",
    "label_bfill1 = label_bfill1.withColumn(\"prev_value5\", F.lag(label_bfill1.prev_value4).over(my_window)).fillna(0) \n",
    "label_bfill1 = label_bfill1.withColumn(\"prev_value6\", F.lag(label_bfill1.prev_value5).over(my_window)).fillna(0) \n",
    "label_bfill1 = label_bfill1.withColumn(\"prev_value7\", F.lag(label_bfill1.prev_value6).over(my_window)).fillna(0)"
   ]
  },
  {
   "cell_type": "code",
   "execution_count": 34,
   "metadata": {
    "collapsed": true
   },
   "outputs": [],
   "source": [
    "# create the label column \n",
    "label_bfill2 = (label_bfill1.withColumn('label', label_bfill1.failure1 + label_bfill1.prev_value1 \n",
    "                         + label_bfill1.prev_value2 + label_bfill1.prev_value3 + label_bfill1.prev_value4 \n",
    "                         + label_bfill1.prev_value5 + label_bfill1.prev_value6 + label_bfill1.prev_value7))\n",
    "label_bfill2 = label_bfill2.withColumn('label_e', F.when(col('label') > 4, 4.0).otherwise(col('label')))"
   ]
  },
  {
   "cell_type": "code",
   "execution_count": null,
   "metadata": {
    "collapsed": true
   },
   "outputs": [],
   "source": [
    "label_bfill3 = (label_bfill2.drop(label_bfill2.prev_value1).drop(label_bfill2.prev_value2)\n",
    "              .drop(label_bfill2.prev_value3).drop(label_bfill2.prev_value4)\n",
    "              .drop(label_bfill2.prev_value5).drop(label_bfill2.prev_value6)\n",
    "              .drop(label_bfill2.prev_value7).drop(label_bfill2.label))"
   ]
  },
  {
   "cell_type": "code",
   "execution_count": null,
   "metadata": {
    "collapsed": true
   },
   "outputs": [],
   "source": [
    "label_bfill3.show(1)"
   ]
  },
  {
   "cell_type": "markdown",
   "metadata": {
    "collapsed": true
   },
   "source": []
  },
  {
   "cell_type": "code",
   "execution_count": null,
   "metadata": {
    "collapsed": true
   },
   "outputs": [],
   "source": [
    "# write the final result as parquet file in blob location \n",
    "# https://github.com/Azure/ViennaDocs/blob/master/Documentation/UsingBlobForStorage.md\n",
    "\n",
    "# Create a new container if necessary, otherwise you can use an existing container.\n",
    "# This command creates the container if it does not already exist. Else it does nothing.\n",
    "my_service.create_container(STORAGE_CONTAINER_NAME, \n",
    "                            fail_on_exist=False, \n",
    "                            public_access=PublicAccess.Container)\n",
    "\n",
    "# you decide to partition the dataframe into three files and save them in the current folder.\n",
    "# if you wish to visualize them in the run history Output Files, specify the path \n",
    "# as './outputs/multiple_files.parquet'.\n",
    "#label_bfill3.coalesce(3).write.mode('overwrite').parquet('multiple_files.parquet')\n",
    "label_bfill3.write.mode('overwrite').parquet(FEATURES_LOCAL_DIRECT)\n",
    "\n",
    "# unlike the single file case, for multiple files we need to first delete results from the \n",
    "# previous run before uploading.\n",
    "for blob in my_service.list_blobs(STORAGE_CONTAINER_NAME):\n",
    "    if FEATURES_LOCAL_DIRECT in blob.name:\n",
    "        my_service.delete_blob(STORAGE_CONTAINER_NAME, blob.name)\n",
    "\n",
    "# upload the entire folder into blob storage\n",
    "for name in glob.iglob(FEATURES_LOCAL_DIRECT + '/*'):\n",
    "    print(os.path.abspath(name))\n",
    "    my_service.create_blob_from_path(STORAGE_CONTAINER_NAME, name, name)\n",
    "\n",
    "print(\"Feature engineering final dataset files saved!\")"
   ]
  },
  {
   "cell_type": "markdown",
   "metadata": {
    "collapsed": true
   },
   "source": [
    "# Conclusion\n"
   ]
  }
 ],
 "metadata": {
  "kernelspec": {
   "display_name": "Hack2 docker",
   "language": "python",
   "name": "hack2_docker"
  },
  "language_info": {
   "codemirror_mode": {
    "name": "ipython",
    "version": 3
   },
   "file_extension": ".py",
   "mimetype": "text/x-python",
   "name": "python",
   "nbconvert_exporter": "python",
   "pygments_lexer": "ipython3",
   "version": "3.5.2"
  }
 },
 "nbformat": 4,
 "nbformat_minor": 2
}
