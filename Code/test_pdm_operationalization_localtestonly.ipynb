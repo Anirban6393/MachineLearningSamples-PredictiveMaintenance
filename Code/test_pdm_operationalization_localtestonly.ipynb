{
 "cells": [
  {
   "cell_type": "markdown",
   "metadata": {},
   "source": [
    "# Step 4b: Authoring the components for a real time web service and testing locally\n",
    "\n",
    "The best model is now saved as a .model file along with the relevant scheme for deployment. The functions are first tested locally before operationalizing the model using Azure Machine Learning Model Management environment for use in production in realtime."
   ]
  },
  {
   "cell_type": "code",
   "execution_count": 1,
   "metadata": {},
   "outputs": [],
   "source": [
    "## Setup our environment by importing required libraries\n",
    "import os\n",
    "import csv\n",
    "\n",
    "import pandas as pd\n",
    "import io\n",
    "import requests\n",
    "\n",
    "import glob\n",
    "from azure.storage.blob import BlockBlobService\n",
    "from azure.storage.blob import PublicAccess\n",
    "\n",
    "# For creating pipelines and model\n",
    "from pyspark.ml.feature import StringIndexer, OneHotEncoder, VectorAssembler, VectorIndexer\n",
    "from pyspark.ml import Pipeline, PipelineModel\n",
    "from pyspark.ml.classification import RandomForestClassifier\n",
    "from pyspark.ml.evaluation import MulticlassClassificationEvaluator\n",
    "\n",
    "# Setup the pyspark environment\n",
    "from pyspark.sql import SparkSession\n",
    "\n",
    "spark = SparkSession.builder.getOrCreate()"
   ]
  },
  {
   "cell_type": "code",
   "execution_count": 2,
   "metadata": {},
   "outputs": [
    {
     "name": "stdout",
     "output_type": "stream",
     "text": [
      "DONE creating a local directory!\n",
      "+---------+--------------------+------------------+--------------------+----------------------+-----------------------+-------------------+---------------------+-----------------------+------------------------+------------------+-------------------+---------------------+----------------------+------------------+--------------------+----------------------+-----------------------+------------------------+------------------------+------------------------+------------------------+------------------------+-----------------+-----------------+-----------------+-----------------+------+---+-------------+--------+-------+\n",
      "|machineID|        dt_truncated|volt_rollingmean_3|rotate_rollingmean_3|pressure_rollingmean_3|vibration_rollingmean_3|volt_rollingmean_24|rotate_rollingmean_24|pressure_rollingmean_24|vibration_rollingmean_24| volt_rollingstd_3|rotate_rollingstd_3|pressure_rollingstd_3|vibration_rollingstd_3|volt_rollingstd_24|rotate_rollingstd_24|pressure_rollingstd_24|vibration_rollingstd_24|error1sum_rollingmean_24|error2sum_rollingmean_24|error3sum_rollingmean_24|error4sum_rollingmean_24|error5sum_rollingmean_24|         comp1sum|         comp2sum|         comp3sum|         comp4sum| model|age|model_encoded|failure1|label_e|\n",
      "+---------+--------------------+------------------+--------------------+----------------------+-----------------------+-------------------+---------------------+-----------------------+------------------------+------------------+-------------------+---------------------+----------------------+------------------+--------------------+----------------------+-----------------------+------------------------+------------------------+------------------------+------------------------+------------------------+-----------------+-----------------+-----------------+-----------------+------+---+-------------+--------+-------+\n",
      "|      114|2016-01-01 06:00:...| 163.3757329023745|  333.14948458556535|    100.18395169796328|     44.095881263819514| 164.11472399129667|     277.191815231867|      97.62891107072754|       50.88535051605059|21.004956521854176|  67.52872593782637|   12.936152686125933|     4.613597609179632|15.537773806210083|   67.65198854409817|     10.52827463297973|      6.941294875549091|                     0.0|                     0.0|                     0.0|                     0.0|                     0.0|            489.0|            549.0|            549.0|            564.0|model1| 18|    (3,[],[])|     0.0|    0.0|\n",
      "|      114|2016-01-01 03:00:...| 168.0560723838507|  279.96957534682707|     97.63372820912399|      48.24221679536314| 164.03977789009616|    265.4140301347857|       98.2692713270434|      51.574366655467436|17.820643824484396| 49.637429003930606|    9.789304756066265|     7.963344413644408| 15.48856269342518|   67.26398825199145|    10.343146088525474|      6.738109627670492|                     0.0|                     0.0|                     0.0|                     0.0|                     0.0|            489.0|            549.0|            549.0|            564.0|model1| 18|    (3,[],[])|     0.0|    0.0|\n",
      "|      114|2016-01-01 00:00:...|161.59623278663096|   277.7171441565807|     95.71420759202182|     51.508182534644625| 164.56778047540993|   265.99342004784285|       99.6572121485503|       50.46248490865013|20.582267478545578|  80.97739710207937|    8.128630498837182|     10.04603679663133|15.551165354528889|   65.23789560931164|    11.490148490289625|     7.7457818689251345|                     0.0|                     0.0|                     0.0|                     0.0|                     0.0|488.6666666666667|548.6666666666666|548.6666666666666|563.6666666666666|model1| 18|    (3,[],[])|     0.0|    0.0|\n",
      "|      114|2015-12-31 21:00:...| 170.0141386667267|   292.4471663647502|      86.0653955365305|     50.314535427527936| 165.41723263438084|   278.12231772796457|      98.87594592461198|      49.100686634977116|13.812544186838844| 56.224636185244115|    9.605933766887967|     6.294693994764171|15.402539242532207|   78.42674708913566|    12.387032843966068|      7.822982220380671|                     0.0|                     0.0|                     0.0|                     0.0|                     0.0|            488.0|            548.0|            548.0|            563.0|model1| 18|    (3,[],[])|     0.0|    0.0|\n",
      "|      114|2015-12-31 18:00:...|170.42359844411342|   334.3696511783739|     99.07688677874042|     48.853143551499244|  166.3251929489545|    286.4962812101407|     101.27560815245654|      47.541499460975025|  8.73668143235762|  44.16549629157097|    5.827054526494244|     6.890586104508928|15.088084779349089|   81.86613174940224|    11.384795095243218|      8.422065747978259|                     0.0|                     0.0|                     0.0|                     0.0|                     0.0|            488.0|            548.0|            548.0|            563.0|model1| 18|    (3,[],[])|     0.0|    0.0|\n",
      "+---------+--------------------+------------------+--------------------+----------------------+-----------------------+-------------------+---------------------+-----------------------+------------------------+------------------+-------------------+---------------------+----------------------+------------------+--------------------+----------------------+-----------------------+------------------------+------------------------+------------------------+------------------------+------------------------+-----------------+-----------------+-----------------+-----------------+------+---+-------------+--------+-------+\n",
      "only showing top 5 rows\n",
      "\n",
      "Feature engineering final dataset files loaded!\n",
      "CPU times: user 12.4 s, sys: 4.77 s, total: 17.1 s\n",
      "Wall time: 1min 39s\n"
     ]
    }
   ],
   "source": [
    "%%time\n",
    "# load the previous created final dataset into the workspace\n",
    "from azure.storage.blob import BlockBlobService\n",
    "import glob\n",
    "import os\n",
    "\n",
    "# define parameters \n",
    "ACCOUNT_NAME = \"pdmvienna\"\n",
    "ACCOUNT_KEY = \"PDuXK61GpmMVWMrWdvr29THbPdlOXa61fN5RfgQV/jBO8berC1zLzZ678Nxrx+D3CRp4+ZvSff9al+lrUh8qUQ==\"\n",
    "CONTAINER_NAME = \"featureengineering\"\n",
    "\n",
    "# define your blob service     \n",
    "my_service = BlockBlobService(account_name=ACCOUNT_NAME, account_key=ACCOUNT_KEY)\n",
    "\n",
    "# create a local path where to store the results later.\n",
    "LOCAL_DIRECT = 'model_operationalize.parquet'\n",
    "if not os.path.exists(LOCAL_DIRECT):\n",
    "    os.makedirs(LOCAL_DIRECT)\n",
    "    print('DONE creating a local directory!')\n",
    "\n",
    "# define your blob service     \n",
    "my_service = BlockBlobService(account_name=ACCOUNT_NAME, account_key=ACCOUNT_KEY)\n",
    "\n",
    "# download the entire parquet result folder to local path for a new run \n",
    "for blob in my_service.list_blobs(CONTAINER_NAME):\n",
    "    if 'featureengineering_files.parquet' in blob.name:\n",
    "        local_file = os.path.join(LOCAL_DIRECT, os.path.basename(blob.name))\n",
    "        my_service.get_blob_to_path(CONTAINER_NAME, blob.name, local_file)\n",
    "\n",
    "data = spark.read.parquet('model_operationalize.parquet')\n",
    "#data.persist()\n",
    "data.show(5)\n",
    "print('Feature engineering final dataset files loaded!')"
   ]
  },
  {
   "cell_type": "markdown",
   "metadata": {},
   "source": [
    "# Authoring  Realtime Web Service"
   ]
  },
  {
   "cell_type": "markdown",
   "metadata": {},
   "source": [
    "In this section, we show you how to author a realtime web service that scores the model you saved above. First check to ensure that the latest version of the azure-ml-api-sdk is available. "
   ]
  },
  {
   "cell_type": "code",
   "execution_count": 3,
   "metadata": {},
   "outputs": [
    {
     "name": "stdout",
     "output_type": "stream",
     "text": [
      "\u001b[33mThe directory '/home/mmlspark/.cache/pip/http' or its parent directory is not owned by the current user and the cache has been disabled. Please check the permissions and owner of that directory. If executing pip with sudo, you may want sudo's -H flag.\u001b[0m\n",
      "\u001b[33mThe directory '/home/mmlspark/.cache/pip' or its parent directory is not owned by the current user and caching wheels has been disabled. check the permissions and owner of that directory. If executing pip with sudo, you may want sudo's -H flag.\u001b[0m\n",
      "Collecting azure-ml-api-sdk\n",
      "  Downloading azure_ml_api_sdk-0.1.0a10-py2.py3-none-any.whl (76kB)\n",
      "\u001b[K    100% |################################| 81kB 127kB/s ta 0:00:01\n",
      "\u001b[?25hRequirement already satisfied: pytz in /home/mmlspark/lib/conda/lib/python3.6/site-packages (from azure-ml-api-sdk)\n",
      "Collecting liac-arff (from azure-ml-api-sdk)\n",
      "  Downloading liac-arff-2.1.1.tar.gz\n",
      "Requirement already satisfied: python-dateutil in /home/mmlspark/lib/conda/lib/python3.6/site-packages (from azure-ml-api-sdk)\n",
      "Requirement already satisfied: six>=1.5 in /home/mmlspark/lib/conda/lib/python3.6/site-packages (from python-dateutil->azure-ml-api-sdk)\n",
      "Installing collected packages: liac-arff, azure-ml-api-sdk\n",
      "  Running setup.py install for liac-arff ... \u001b[?25ldone\n",
      "\u001b[?25hSuccessfully installed azure-ml-api-sdk-0.1.0a10 liac-arff-2.1.1\n"
     ]
    }
   ],
   "source": [
    "!pip install azure-ml-api-sdk"
   ]
  },
  {
   "cell_type": "code",
   "execution_count": 4,
   "metadata": {},
   "outputs": [],
   "source": [
    "from azure.ml.api.schema.dataTypes import DataTypes\n",
    "from azure.ml.api.schema.sampleDefinition import SampleDefinition\n",
    "from azure.ml.api.realtime.services import generate_schema"
   ]
  },
  {
   "cell_type": "markdown",
   "metadata": {},
   "source": [
    "## Define init and run functions\n",
    "\n",
    "We start by defining our init and run functions in the cell below. Then write them to the score.py file. This file will load the model, perform the prediction, and return the result.\n",
    "\n",
    "The init function initializes your web service, loading in any data or models that you need to score your inputs. In the example below, we load in the trained model. This command is run when the Docker container containing your service initializes.\n",
    "\n",
    "The run function defines what is executed on a scoring call. In our simple example, we simply load in the input as a data frame, and run our pipeline on the input, and return the prediction."
   ]
  },
  {
   "cell_type": "code",
   "execution_count": 5,
   "metadata": {},
   "outputs": [],
   "source": [
    "#%%save_file -f score.py\n",
    "# after testing the below init() and run() functions,\n",
    "# uncomment this cell to create the score.py after.\n",
    "\n",
    "# remove import from init() from function.\n",
    "\n",
    "def init():\n",
    "    # read in the model file\n",
    "    from pyspark.ml import PipelineModel\n",
    "    global pipeline\n",
    "    pipeline = PipelineModel.load(\"/azureml-share/pdmrfull.model\")\n",
    "    \n",
    "def run(input_df):\n",
    "    import json\n",
    "    response = ''\n",
    "    \n",
    "    try:\n",
    "        #Get prediction results for the dataframe\n",
    "        input_features = [\n",
    "            'volt_rollingmean_3',\n",
    "            'rotate_rollingmean_3',\n",
    "            'pressure_rollingmean_3',\n",
    "            'vibration_rollingmean_3',\n",
    "            'volt_rollingmean_24',\n",
    "            'rotate_rollingmean_24',\n",
    "            'pressure_rollingmean_24',\n",
    "            'vibration_rollingmean_24',\n",
    "            'volt_rollingstd_3',\n",
    "            'rotate_rollingstd_3',\n",
    "            'pressure_rollingstd_3',\n",
    "            'vibration_rollingstd_3',\n",
    "            'volt_rollingstd_24',\n",
    "            'rotate_rollingstd_24',\n",
    "            'pressure_rollingstd_24',\n",
    "            'vibration_rollingstd_24',\n",
    "            'error1sum_rollingmean_24',\n",
    "            'error2sum_rollingmean_24',\n",
    "            'error3sum_rollingmean_24',\n",
    "            'error4sum_rollingmean_24',\n",
    "            'error5sum_rollingmean_24',\n",
    "            'comp1sum',\n",
    "            'comp2sum',\n",
    "            'comp3sum',\n",
    "            'comp4sum',\n",
    "            'age',\n",
    "        ]\n",
    "\n",
    "        va = VectorAssembler(inputCols=(input_features), outputCol='features')\n",
    "        data = va.transform(input_df).select('machineID','features')\n",
    "        score = pipeline.transform(data)\n",
    "        predictions = score.collect()\n",
    "\n",
    "        #Get each scored result\n",
    "        preds = [str(x['prediction']) for x in predictions]\n",
    "        response = \",\".join(preds)\n",
    "    except Exception as e:\n",
    "        print(\"Error: {0}\",str(e))\n",
    "        return (str(e))\n",
    "    \n",
    "    # Return results\n",
    "    print(json.dumps(response))\n",
    "    return json.dumps(response)"
   ]
  },
  {
   "cell_type": "markdown",
   "metadata": {},
   "source": [
    "## Create schema and schema file \n",
    "\n",
    "Create a schema for the input to the web service and generate the schema file. This will be used to create a Swagger file for your web service which can be used to discover its input and sample data when calling it."
   ]
  },
  {
   "cell_type": "code",
   "execution_count": 6,
   "metadata": {},
   "outputs": [],
   "source": [
    "# define the input data frame\n",
    "inputs = {\"input_df\": SampleDefinition(DataTypes.SPARK, data.drop(\"dt_truncated\",\"failure1\",\"label_e\", \"model\",\"model_encoded\"))}"
   ]
  },
  {
   "cell_type": "code",
   "execution_count": 7,
   "metadata": {},
   "outputs": [
    {
     "data": {
      "text/plain": [
       "{'input': {'input_df': {'internal': {'fields': [{'metadata': {},\n",
       "      'name': 'machineID',\n",
       "      'nullable': True,\n",
       "      'type': 'integer'},\n",
       "     {'metadata': {},\n",
       "      'name': 'volt_rollingmean_3',\n",
       "      'nullable': True,\n",
       "      'type': 'double'},\n",
       "     {'metadata': {},\n",
       "      'name': 'rotate_rollingmean_3',\n",
       "      'nullable': True,\n",
       "      'type': 'double'},\n",
       "     {'metadata': {},\n",
       "      'name': 'pressure_rollingmean_3',\n",
       "      'nullable': True,\n",
       "      'type': 'double'},\n",
       "     {'metadata': {},\n",
       "      'name': 'vibration_rollingmean_3',\n",
       "      'nullable': True,\n",
       "      'type': 'double'},\n",
       "     {'metadata': {},\n",
       "      'name': 'volt_rollingmean_24',\n",
       "      'nullable': True,\n",
       "      'type': 'double'},\n",
       "     {'metadata': {},\n",
       "      'name': 'rotate_rollingmean_24',\n",
       "      'nullable': True,\n",
       "      'type': 'double'},\n",
       "     {'metadata': {},\n",
       "      'name': 'pressure_rollingmean_24',\n",
       "      'nullable': True,\n",
       "      'type': 'double'},\n",
       "     {'metadata': {},\n",
       "      'name': 'vibration_rollingmean_24',\n",
       "      'nullable': True,\n",
       "      'type': 'double'},\n",
       "     {'metadata': {},\n",
       "      'name': 'volt_rollingstd_3',\n",
       "      'nullable': True,\n",
       "      'type': 'double'},\n",
       "     {'metadata': {},\n",
       "      'name': 'rotate_rollingstd_3',\n",
       "      'nullable': True,\n",
       "      'type': 'double'},\n",
       "     {'metadata': {},\n",
       "      'name': 'pressure_rollingstd_3',\n",
       "      'nullable': True,\n",
       "      'type': 'double'},\n",
       "     {'metadata': {},\n",
       "      'name': 'vibration_rollingstd_3',\n",
       "      'nullable': True,\n",
       "      'type': 'double'},\n",
       "     {'metadata': {},\n",
       "      'name': 'volt_rollingstd_24',\n",
       "      'nullable': True,\n",
       "      'type': 'double'},\n",
       "     {'metadata': {},\n",
       "      'name': 'rotate_rollingstd_24',\n",
       "      'nullable': True,\n",
       "      'type': 'double'},\n",
       "     {'metadata': {},\n",
       "      'name': 'pressure_rollingstd_24',\n",
       "      'nullable': True,\n",
       "      'type': 'double'},\n",
       "     {'metadata': {},\n",
       "      'name': 'vibration_rollingstd_24',\n",
       "      'nullable': True,\n",
       "      'type': 'double'},\n",
       "     {'metadata': {},\n",
       "      'name': 'error1sum_rollingmean_24',\n",
       "      'nullable': True,\n",
       "      'type': 'double'},\n",
       "     {'metadata': {},\n",
       "      'name': 'error2sum_rollingmean_24',\n",
       "      'nullable': True,\n",
       "      'type': 'double'},\n",
       "     {'metadata': {},\n",
       "      'name': 'error3sum_rollingmean_24',\n",
       "      'nullable': True,\n",
       "      'type': 'double'},\n",
       "     {'metadata': {},\n",
       "      'name': 'error4sum_rollingmean_24',\n",
       "      'nullable': True,\n",
       "      'type': 'double'},\n",
       "     {'metadata': {},\n",
       "      'name': 'error5sum_rollingmean_24',\n",
       "      'nullable': True,\n",
       "      'type': 'double'},\n",
       "     {'metadata': {}, 'name': 'comp1sum', 'nullable': True, 'type': 'double'},\n",
       "     {'metadata': {}, 'name': 'comp2sum', 'nullable': True, 'type': 'double'},\n",
       "     {'metadata': {}, 'name': 'comp3sum', 'nullable': True, 'type': 'double'},\n",
       "     {'metadata': {}, 'name': 'comp4sum', 'nullable': True, 'type': 'double'},\n",
       "     {'metadata': {}, 'name': 'age', 'nullable': True, 'type': 'integer'}],\n",
       "    'type': 'struct'},\n",
       "   'swagger': {'example': [{'age': 18,\n",
       "      'comp1sum': 489.0,\n",
       "      'comp2sum': 549.0,\n",
       "      'comp3sum': 549.0,\n",
       "      'comp4sum': 564.0,\n",
       "      'error1sum_rollingmean_24': 0.0,\n",
       "      'error2sum_rollingmean_24': 0.0,\n",
       "      'error3sum_rollingmean_24': 0.0,\n",
       "      'error4sum_rollingmean_24': 0.0,\n",
       "      'error5sum_rollingmean_24': 0.0,\n",
       "      'machineID': 114,\n",
       "      'pressure_rollingmean_24': 97.62891107072754,\n",
       "      'pressure_rollingmean_3': 100.18395169796328,\n",
       "      'pressure_rollingstd_24': 10.52827463297973,\n",
       "      'pressure_rollingstd_3': 12.936152686125933,\n",
       "      'rotate_rollingmean_24': 277.191815231867,\n",
       "      'rotate_rollingmean_3': 333.14948458556535,\n",
       "      'rotate_rollingstd_24': 67.65198854409817,\n",
       "      'rotate_rollingstd_3': 67.52872593782637,\n",
       "      'vibration_rollingmean_24': 50.88535051605059,\n",
       "      'vibration_rollingmean_3': 44.095881263819514,\n",
       "      'vibration_rollingstd_24': 6.941294875549091,\n",
       "      'vibration_rollingstd_3': 4.613597609179632,\n",
       "      'volt_rollingmean_24': 164.11472399129667,\n",
       "      'volt_rollingmean_3': 163.3757329023745,\n",
       "      'volt_rollingstd_24': 15.537773806210083,\n",
       "      'volt_rollingstd_3': 21.004956521854176},\n",
       "     {'age': 18,\n",
       "      'comp1sum': 489.0,\n",
       "      'comp2sum': 549.0,\n",
       "      'comp3sum': 549.0,\n",
       "      'comp4sum': 564.0,\n",
       "      'error1sum_rollingmean_24': 0.0,\n",
       "      'error2sum_rollingmean_24': 0.0,\n",
       "      'error3sum_rollingmean_24': 0.0,\n",
       "      'error4sum_rollingmean_24': 0.0,\n",
       "      'error5sum_rollingmean_24': 0.0,\n",
       "      'machineID': 114,\n",
       "      'pressure_rollingmean_24': 98.2692713270434,\n",
       "      'pressure_rollingmean_3': 97.63372820912399,\n",
       "      'pressure_rollingstd_24': 10.343146088525474,\n",
       "      'pressure_rollingstd_3': 9.789304756066265,\n",
       "      'rotate_rollingmean_24': 265.4140301347857,\n",
       "      'rotate_rollingmean_3': 279.96957534682707,\n",
       "      'rotate_rollingstd_24': 67.26398825199145,\n",
       "      'rotate_rollingstd_3': 49.637429003930606,\n",
       "      'vibration_rollingmean_24': 51.574366655467436,\n",
       "      'vibration_rollingmean_3': 48.24221679536314,\n",
       "      'vibration_rollingstd_24': 6.738109627670492,\n",
       "      'vibration_rollingstd_3': 7.963344413644408,\n",
       "      'volt_rollingmean_24': 164.03977789009616,\n",
       "      'volt_rollingmean_3': 168.0560723838507,\n",
       "      'volt_rollingstd_24': 15.48856269342518,\n",
       "      'volt_rollingstd_3': 17.820643824484396},\n",
       "     {'age': 18,\n",
       "      'comp1sum': 488.6666666666667,\n",
       "      'comp2sum': 548.6666666666666,\n",
       "      'comp3sum': 548.6666666666666,\n",
       "      'comp4sum': 563.6666666666666,\n",
       "      'error1sum_rollingmean_24': 0.0,\n",
       "      'error2sum_rollingmean_24': 0.0,\n",
       "      'error3sum_rollingmean_24': 0.0,\n",
       "      'error4sum_rollingmean_24': 0.0,\n",
       "      'error5sum_rollingmean_24': 0.0,\n",
       "      'machineID': 114,\n",
       "      'pressure_rollingmean_24': 99.6572121485503,\n",
       "      'pressure_rollingmean_3': 95.71420759202182,\n",
       "      'pressure_rollingstd_24': 11.490148490289625,\n",
       "      'pressure_rollingstd_3': 8.128630498837182,\n",
       "      'rotate_rollingmean_24': 265.99342004784285,\n",
       "      'rotate_rollingmean_3': 277.7171441565807,\n",
       "      'rotate_rollingstd_24': 65.23789560931164,\n",
       "      'rotate_rollingstd_3': 80.97739710207937,\n",
       "      'vibration_rollingmean_24': 50.46248490865013,\n",
       "      'vibration_rollingmean_3': 51.508182534644625,\n",
       "      'vibration_rollingstd_24': 7.7457818689251345,\n",
       "      'vibration_rollingstd_3': 10.04603679663133,\n",
       "      'volt_rollingmean_24': 164.56778047540993,\n",
       "      'volt_rollingmean_3': 161.59623278663096,\n",
       "      'volt_rollingstd_24': 15.551165354528889,\n",
       "      'volt_rollingstd_3': 20.582267478545578}],\n",
       "    'items': {'properties': {'age': {'format': 'int32', 'type': 'integer'},\n",
       "      'comp1sum': {'format': 'double', 'type': 'number'},\n",
       "      'comp2sum': {'format': 'double', 'type': 'number'},\n",
       "      'comp3sum': {'format': 'double', 'type': 'number'},\n",
       "      'comp4sum': {'format': 'double', 'type': 'number'},\n",
       "      'error1sum_rollingmean_24': {'format': 'double', 'type': 'number'},\n",
       "      'error2sum_rollingmean_24': {'format': 'double', 'type': 'number'},\n",
       "      'error3sum_rollingmean_24': {'format': 'double', 'type': 'number'},\n",
       "      'error4sum_rollingmean_24': {'format': 'double', 'type': 'number'},\n",
       "      'error5sum_rollingmean_24': {'format': 'double', 'type': 'number'},\n",
       "      'machineID': {'format': 'int32', 'type': 'integer'},\n",
       "      'pressure_rollingmean_24': {'format': 'double', 'type': 'number'},\n",
       "      'pressure_rollingmean_3': {'format': 'double', 'type': 'number'},\n",
       "      'pressure_rollingstd_24': {'format': 'double', 'type': 'number'},\n",
       "      'pressure_rollingstd_3': {'format': 'double', 'type': 'number'},\n",
       "      'rotate_rollingmean_24': {'format': 'double', 'type': 'number'},\n",
       "      'rotate_rollingmean_3': {'format': 'double', 'type': 'number'},\n",
       "      'rotate_rollingstd_24': {'format': 'double', 'type': 'number'},\n",
       "      'rotate_rollingstd_3': {'format': 'double', 'type': 'number'},\n",
       "      'vibration_rollingmean_24': {'format': 'double', 'type': 'number'},\n",
       "      'vibration_rollingmean_3': {'format': 'double', 'type': 'number'},\n",
       "      'vibration_rollingstd_24': {'format': 'double', 'type': 'number'},\n",
       "      'vibration_rollingstd_3': {'format': 'double', 'type': 'number'},\n",
       "      'volt_rollingmean_24': {'format': 'double', 'type': 'number'},\n",
       "      'volt_rollingmean_3': {'format': 'double', 'type': 'number'},\n",
       "      'volt_rollingstd_24': {'format': 'double', 'type': 'number'},\n",
       "      'volt_rollingstd_3': {'format': 'double', 'type': 'number'}},\n",
       "     'type': 'object'},\n",
       "    'type': 'array'},\n",
       "   'type': 2}}}"
      ]
     },
     "execution_count": 7,
     "output_type": "execute_result",
     "metadata": {}
    }
   ],
   "source": [
    "#import score\n",
    "generate_schema(run_func=run, inputs=inputs, filepath='service_schema.json')"
   ]
  },
  {
   "cell_type": "markdown",
   "metadata": {},
   "source": [
    "# Test init and run\n",
    "\n",
    "We can then test the init and run functions right here in the notebook, before we decide to actually publish a web service."
   ]
  },
  {
   "cell_type": "code",
   "execution_count": 8,
   "metadata": {},
   "outputs": [
    {
     "data": {
      "text/plain": [
       "[[114,\n",
       "  163.375732902,\n",
       "  333.149484586,\n",
       "  100.183951698,\n",
       "  44.0958812638,\n",
       "  164.114723991,\n",
       "  277.191815232,\n",
       "  97.6289110707,\n",
       "  50.8853505161,\n",
       "  21.0049565219,\n",
       "  67.5287259378,\n",
       "  12.9361526861,\n",
       "  4.61359760918,\n",
       "  15.5377738062,\n",
       "  67.6519885441,\n",
       "  10.528274633,\n",
       "  6.94129487555,\n",
       "  0.0,\n",
       "  0.0,\n",
       "  0.0,\n",
       "  0.0,\n",
       "  0.0,\n",
       "  489.0,\n",
       "  549.0,\n",
       "  549.0,\n",
       "  564.0,\n",
       "  18.0]]"
      ]
     },
     "execution_count": 8,
     "output_type": "execute_result",
     "metadata": {}
    }
   ],
   "source": [
    "# this is how the input data should be\n",
    "input_data = [[114, 163.375732902,333.149484586,100.183951698,44.0958812638,164.114723991,277.191815232,97.6289110707,50.8853505161,21.0049565219,67.5287259378,12.9361526861,4.61359760918,15.5377738062,67.6519885441,10.528274633,6.94129487555,0.0,0.0,0.0,0.0,0.0,489.0,549.0,549.0,564.0,18.0]]\n",
    "input_data"
   ]
  },
  {
   "cell_type": "code",
   "execution_count": 9,
   "metadata": {},
   "outputs": [],
   "source": [
    "df = (spark.createDataFrame(input_data, [\"machineID\", \"volt_rollingmean_3\", \"rotate_rollingmean_3\", \"pressure_rollingmean_3\", \"vibration_rollingmean_3\", \"volt_rollingmean_24\", \n",
    "            \"rotate_rollingmean_24\", \"pressure_rollingmean_24\", \"vibration_rollingmean_24\", \"volt_rollingstd_3\", \"rotate_rollingstd_3\",\n",
    "            \"pressure_rollingstd_3\", \"vibration_rollingstd_3\", \"volt_rollingstd_24\", \"rotate_rollingstd_24\", \"pressure_rollingstd_24\",\n",
    "            \"vibration_rollingstd_24\", \"error1sum_rollingmean_24\", \"error2sum_rollingmean_24\", \"error3sum_rollingmean_24\",\n",
    "            \"error4sum_rollingmean_24\", \"error5sum_rollingmean_24\", \"comp1sum\", \"comp2sum\", \"comp3sum\", \"comp4sum\",\n",
    "            \"age\"]))"
   ]
  },
  {
   "cell_type": "code",
   "execution_count": 10,
   "metadata": {},
   "outputs": [],
   "source": [
    "init()"
   ]
  },
  {
   "cell_type": "code",
   "execution_count": 11,
   "metadata": {},
   "outputs": [
    {
     "name": "stdout",
     "output_type": "stream",
     "text": [
      "\"0.0\"\n"
     ]
    },
    {
     "data": {
      "text/plain": [
       "'\"0.0\"'"
      ]
     },
     "execution_count": 11,
     "output_type": "execute_result",
     "metadata": {}
    }
   ],
   "source": [
    "run(df)"
   ]
  },
  {
   "cell_type": "code",
   "execution_count": null,
   "metadata": {},
   "outputs": [],
   "source": [
    ""
   ]
  }
 ],
 "metadata": {
  "kernelspec": {
   "display_name": "test_operationalize docker",
   "language": "python",
   "name": "test_operationalize_docker"
  },
  "language_info": {
   "codemirror_mode": {
    "name": "ipython",
    "version": 3.0
   },
   "file_extension": ".py",
   "mimetype": "text/x-python",
   "name": "python",
   "nbconvert_exporter": "python",
   "pygments_lexer": "ipython3",
   "version": "3.5.2"
  }
 },
 "nbformat": 4,
 "nbformat_minor": 2
}